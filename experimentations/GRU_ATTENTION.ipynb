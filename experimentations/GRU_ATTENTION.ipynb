{
 "cells": [
  {
   "cell_type": "markdown",
   "id": "6033a233",
   "metadata": {},
   "source": [
    "# 1. Préparation des données et extraction des transcriptions"
   ]
  },
  {
   "cell_type": "code",
   "execution_count": 119,
   "id": "25d810b1",
   "metadata": {},
   "outputs": [],
   "source": [
    "import os\n",
    "import pandas as pd\n",
    "pd.set_option('display.max_colwidth', None)\n"
   ]
  },
  {
   "cell_type": "code",
   "execution_count": 2,
   "id": "de255ee9",
   "metadata": {},
   "outputs": [],
   "source": [
    "# Charger les transcriptions\n",
    "df = pd.read_excel(\"C:/Users/Christian/Desktop/YembaTones/dataset2.xlsx\")\n"
   ]
  },
  {
   "cell_type": "code",
   "execution_count": 3,
   "id": "582878a8",
   "metadata": {
    "scrolled": true
   },
   "outputs": [
    {
     "data": {
      "text/html": [
       "<div>\n",
       "<style scoped>\n",
       "    .dataframe tbody tr th:only-of-type {\n",
       "        vertical-align: middle;\n",
       "    }\n",
       "\n",
       "    .dataframe tbody tr th {\n",
       "        vertical-align: top;\n",
       "    }\n",
       "\n",
       "    .dataframe thead th {\n",
       "        text-align: right;\n",
       "    }\n",
       "</style>\n",
       "<table border=\"1\" class=\"dataframe\">\n",
       "  <thead>\n",
       "    <tr style=\"text-align: right;\">\n",
       "      <th></th>\n",
       "      <th>WordId</th>\n",
       "      <th>Yemba</th>\n",
       "      <th>Speaker</th>\n",
       "      <th>GroupeId</th>\n",
       "      <th>Statement</th>\n",
       "      <th>Syllabe 1</th>\n",
       "      <th>Tone 1</th>\n",
       "      <th>Syllabe 2</th>\n",
       "      <th>Tone 2</th>\n",
       "      <th>Syllabe 3</th>\n",
       "      <th>Tone 3</th>\n",
       "    </tr>\n",
       "  </thead>\n",
       "  <tbody>\n",
       "    <tr>\n",
       "      <th>3779</th>\n",
       "      <td>3780</td>\n",
       "      <td>lezēn</td>\n",
       "      <td>11</td>\n",
       "      <td>146</td>\n",
       "      <td>2</td>\n",
       "      <td>le</td>\n",
       "      <td>bas</td>\n",
       "      <td>zēn</td>\n",
       "      <td>moyen</td>\n",
       "      <td>NaN</td>\n",
       "      <td>NaN</td>\n",
       "    </tr>\n",
       "    <tr>\n",
       "      <th>3780</th>\n",
       "      <td>3781</td>\n",
       "      <td>nzeŋ</td>\n",
       "      <td>11</td>\n",
       "      <td>147</td>\n",
       "      <td>1</td>\n",
       "      <td>n</td>\n",
       "      <td>bas</td>\n",
       "      <td>zeŋ</td>\n",
       "      <td>bas</td>\n",
       "      <td>NaN</td>\n",
       "      <td>NaN</td>\n",
       "    </tr>\n",
       "    <tr>\n",
       "      <th>3781</th>\n",
       "      <td>3782</td>\n",
       "      <td>nzéŋ</td>\n",
       "      <td>11</td>\n",
       "      <td>147</td>\n",
       "      <td>2</td>\n",
       "      <td>n</td>\n",
       "      <td>bas</td>\n",
       "      <td>zéŋ</td>\n",
       "      <td>haut</td>\n",
       "      <td>NaN</td>\n",
       "      <td>NaN</td>\n",
       "    </tr>\n",
       "    <tr>\n",
       "      <th>3782</th>\n",
       "      <td>3783</td>\n",
       "      <td>nzɔ̄ŋ</td>\n",
       "      <td>11</td>\n",
       "      <td>148</td>\n",
       "      <td>1</td>\n",
       "      <td>n</td>\n",
       "      <td>bas</td>\n",
       "      <td>zɔ̄ŋ</td>\n",
       "      <td>moyen</td>\n",
       "      <td>NaN</td>\n",
       "      <td>NaN</td>\n",
       "    </tr>\n",
       "    <tr>\n",
       "      <th>3783</th>\n",
       "      <td>3784</td>\n",
       "      <td>nzɔŋ</td>\n",
       "      <td>11</td>\n",
       "      <td>148</td>\n",
       "      <td>2</td>\n",
       "      <td>n</td>\n",
       "      <td>bas</td>\n",
       "      <td>zɔŋ</td>\n",
       "      <td>bas</td>\n",
       "      <td>NaN</td>\n",
       "      <td>NaN</td>\n",
       "    </tr>\n",
       "  </tbody>\n",
       "</table>\n",
       "</div>"
      ],
      "text/plain": [
       "      WordId   Yemba  Speaker  GroupeId  Statement Syllabe 1 Tone 1 Syllabe 2  \\\n",
       "3779    3780  lezēn       11       146          2        le    bas      zēn   \n",
       "3780    3781    nzeŋ       11       147          1         n    bas       zeŋ   \n",
       "3781    3782   nzéŋ       11       147          2         n    bas      zéŋ   \n",
       "3782    3783   nzɔ̄ŋ       11       148          1         n    bas      zɔ̄ŋ   \n",
       "3783    3784    nzɔŋ       11       148          2         n    bas       zɔŋ   \n",
       "\n",
       "     Tone 2 Syllabe 3 Tone 3  \n",
       "3779  moyen       NaN    NaN  \n",
       "3780    bas       NaN    NaN  \n",
       "3781   haut       NaN    NaN  \n",
       "3782  moyen       NaN    NaN  \n",
       "3783    bas       NaN    NaN  "
      ]
     },
     "execution_count": 3,
     "metadata": {},
     "output_type": "execute_result"
    }
   ],
   "source": [
    "df.tail()"
   ]
  },
  {
   "cell_type": "code",
   "execution_count": 4,
   "id": "b5c6996b",
   "metadata": {},
   "outputs": [
    {
     "name": "stdout",
     "output_type": "stream",
     "text": [
      "WordId          0\n",
      "Yemba           0\n",
      "Speaker         0\n",
      "GroupeId        0\n",
      "Statement       0\n",
      "Syllabe 1       0\n",
      "Tone 1          0\n",
      "Syllabe 2      22\n",
      "Tone 2         22\n",
      "Syllabe 3    3762\n",
      "Tone 3       3762\n",
      "dtype: int64\n"
     ]
    }
   ],
   "source": [
    "print(df.isnull().sum())"
   ]
  },
  {
   "cell_type": "code",
   "execution_count": 5,
   "id": "dc0548a1",
   "metadata": {},
   "outputs": [],
   "source": [
    "# Remplacement des valeurs manquates\n",
    "df[\"Syllabe 2\"] = df[\"Syllabe 2\"].fillna(\"∅\")\n",
    "df[\"Tone 2\"]    = df[\"Tone 2\"].fillna(\"∅\")\n",
    "df[\"Syllabe 3\"] = df[\"Syllabe 3\"].fillna(\"∅\")\n",
    "df[\"Tone 3\"]    = df[\"Tone 3\"].fillna(\"∅\")"
   ]
  },
  {
   "cell_type": "code",
   "execution_count": 6,
   "id": "69570c7f",
   "metadata": {},
   "outputs": [],
   "source": [
    "# Génère les chemins des fichiers audio associés\n",
    "def get_audio_path(row):\n",
    "    return f\"C:/Users/Christian/Desktop/YembaTones/YembaTones An Annotated Dataset for Tonal and Syllabic Analysis of the Yemba Language/Yemba_Dataset/audios/speaker_{row['Speaker']}/group_{row['GroupeId']}/spkr_{row['Speaker']}_group_{row['GroupeId']}_statement_{int(row['Statement'])}.wav\"\n",
    "\n",
    "df[\"audio_path\"] = df.apply(get_audio_path, axis=1)"
   ]
  },
  {
   "cell_type": "code",
   "execution_count": 7,
   "id": "bec0cf1e",
   "metadata": {},
   "outputs": [
    {
     "data": {
      "text/html": [
       "<div>\n",
       "<style scoped>\n",
       "    .dataframe tbody tr th:only-of-type {\n",
       "        vertical-align: middle;\n",
       "    }\n",
       "\n",
       "    .dataframe tbody tr th {\n",
       "        vertical-align: top;\n",
       "    }\n",
       "\n",
       "    .dataframe thead th {\n",
       "        text-align: right;\n",
       "    }\n",
       "</style>\n",
       "<table border=\"1\" class=\"dataframe\">\n",
       "  <thead>\n",
       "    <tr style=\"text-align: right;\">\n",
       "      <th></th>\n",
       "      <th>WordId</th>\n",
       "      <th>Yemba</th>\n",
       "      <th>Speaker</th>\n",
       "      <th>GroupeId</th>\n",
       "      <th>Statement</th>\n",
       "      <th>Syllabe 1</th>\n",
       "      <th>Tone 1</th>\n",
       "      <th>Syllabe 2</th>\n",
       "      <th>Tone 2</th>\n",
       "      <th>Syllabe 3</th>\n",
       "      <th>Tone 3</th>\n",
       "      <th>audio_path</th>\n",
       "    </tr>\n",
       "  </thead>\n",
       "  <tbody>\n",
       "    <tr>\n",
       "      <th>3779</th>\n",
       "      <td>3780</td>\n",
       "      <td>lezēn</td>\n",
       "      <td>11</td>\n",
       "      <td>146</td>\n",
       "      <td>2</td>\n",
       "      <td>le</td>\n",
       "      <td>bas</td>\n",
       "      <td>zēn</td>\n",
       "      <td>moyen</td>\n",
       "      <td>∅</td>\n",
       "      <td>∅</td>\n",
       "      <td>C:/Users/Christian/Desktop/YembaTones/YembaTones An Annotated Dataset for Tonal and Syllabic Analysis of the Yemba Language/Yemba_Dataset/audios/speaker_11/group_146/spkr_11_group_146_statement_2.wav</td>\n",
       "    </tr>\n",
       "    <tr>\n",
       "      <th>3780</th>\n",
       "      <td>3781</td>\n",
       "      <td>nzeŋ</td>\n",
       "      <td>11</td>\n",
       "      <td>147</td>\n",
       "      <td>1</td>\n",
       "      <td>n</td>\n",
       "      <td>bas</td>\n",
       "      <td>zeŋ</td>\n",
       "      <td>bas</td>\n",
       "      <td>∅</td>\n",
       "      <td>∅</td>\n",
       "      <td>C:/Users/Christian/Desktop/YembaTones/YembaTones An Annotated Dataset for Tonal and Syllabic Analysis of the Yemba Language/Yemba_Dataset/audios/speaker_11/group_147/spkr_11_group_147_statement_1.wav</td>\n",
       "    </tr>\n",
       "    <tr>\n",
       "      <th>3781</th>\n",
       "      <td>3782</td>\n",
       "      <td>nzéŋ</td>\n",
       "      <td>11</td>\n",
       "      <td>147</td>\n",
       "      <td>2</td>\n",
       "      <td>n</td>\n",
       "      <td>bas</td>\n",
       "      <td>zéŋ</td>\n",
       "      <td>haut</td>\n",
       "      <td>∅</td>\n",
       "      <td>∅</td>\n",
       "      <td>C:/Users/Christian/Desktop/YembaTones/YembaTones An Annotated Dataset for Tonal and Syllabic Analysis of the Yemba Language/Yemba_Dataset/audios/speaker_11/group_147/spkr_11_group_147_statement_2.wav</td>\n",
       "    </tr>\n",
       "    <tr>\n",
       "      <th>3782</th>\n",
       "      <td>3783</td>\n",
       "      <td>nzɔ̄ŋ</td>\n",
       "      <td>11</td>\n",
       "      <td>148</td>\n",
       "      <td>1</td>\n",
       "      <td>n</td>\n",
       "      <td>bas</td>\n",
       "      <td>zɔ̄ŋ</td>\n",
       "      <td>moyen</td>\n",
       "      <td>∅</td>\n",
       "      <td>∅</td>\n",
       "      <td>C:/Users/Christian/Desktop/YembaTones/YembaTones An Annotated Dataset for Tonal and Syllabic Analysis of the Yemba Language/Yemba_Dataset/audios/speaker_11/group_148/spkr_11_group_148_statement_1.wav</td>\n",
       "    </tr>\n",
       "    <tr>\n",
       "      <th>3783</th>\n",
       "      <td>3784</td>\n",
       "      <td>nzɔŋ</td>\n",
       "      <td>11</td>\n",
       "      <td>148</td>\n",
       "      <td>2</td>\n",
       "      <td>n</td>\n",
       "      <td>bas</td>\n",
       "      <td>zɔŋ</td>\n",
       "      <td>bas</td>\n",
       "      <td>∅</td>\n",
       "      <td>∅</td>\n",
       "      <td>C:/Users/Christian/Desktop/YembaTones/YembaTones An Annotated Dataset for Tonal and Syllabic Analysis of the Yemba Language/Yemba_Dataset/audios/speaker_11/group_148/spkr_11_group_148_statement_2.wav</td>\n",
       "    </tr>\n",
       "  </tbody>\n",
       "</table>\n",
       "</div>"
      ],
      "text/plain": [
       "      WordId   Yemba  Speaker  GroupeId  Statement Syllabe 1 Tone 1 Syllabe 2  \\\n",
       "3779    3780  lezēn       11       146          2        le    bas      zēn   \n",
       "3780    3781    nzeŋ       11       147          1         n    bas       zeŋ   \n",
       "3781    3782   nzéŋ       11       147          2         n    bas      zéŋ   \n",
       "3782    3783   nzɔ̄ŋ       11       148          1         n    bas      zɔ̄ŋ   \n",
       "3783    3784    nzɔŋ       11       148          2         n    bas       zɔŋ   \n",
       "\n",
       "     Tone 2 Syllabe 3 Tone 3  \\\n",
       "3779  moyen         ∅      ∅   \n",
       "3780    bas         ∅      ∅   \n",
       "3781   haut         ∅      ∅   \n",
       "3782  moyen         ∅      ∅   \n",
       "3783    bas         ∅      ∅   \n",
       "\n",
       "                                                                                                                                                                                                   audio_path  \n",
       "3779  C:/Users/Christian/Desktop/YembaTones/YembaTones An Annotated Dataset for Tonal and Syllabic Analysis of the Yemba Language/Yemba_Dataset/audios/speaker_11/group_146/spkr_11_group_146_statement_2.wav  \n",
       "3780  C:/Users/Christian/Desktop/YembaTones/YembaTones An Annotated Dataset for Tonal and Syllabic Analysis of the Yemba Language/Yemba_Dataset/audios/speaker_11/group_147/spkr_11_group_147_statement_1.wav  \n",
       "3781  C:/Users/Christian/Desktop/YembaTones/YembaTones An Annotated Dataset for Tonal and Syllabic Analysis of the Yemba Language/Yemba_Dataset/audios/speaker_11/group_147/spkr_11_group_147_statement_2.wav  \n",
       "3782  C:/Users/Christian/Desktop/YembaTones/YembaTones An Annotated Dataset for Tonal and Syllabic Analysis of the Yemba Language/Yemba_Dataset/audios/speaker_11/group_148/spkr_11_group_148_statement_1.wav  \n",
       "3783  C:/Users/Christian/Desktop/YembaTones/YembaTones An Annotated Dataset for Tonal and Syllabic Analysis of the Yemba Language/Yemba_Dataset/audios/speaker_11/group_148/spkr_11_group_148_statement_2.wav  "
      ]
     },
     "execution_count": 7,
     "metadata": {},
     "output_type": "execute_result"
    }
   ],
   "source": [
    "df.tail()"
   ]
  },
  {
   "cell_type": "code",
   "execution_count": 8,
   "id": "33662dcf",
   "metadata": {},
   "outputs": [],
   "source": [
    "# Combiner les syllabes avec tons pour créer une transcription syllabique\n",
    "def combine_syllables(row):\n",
    "    syllables = []\n",
    "    for i in range(1, 4):\n",
    "        syll = row.get(f\"Syllabe {i}\")\n",
    "        tone = row.get(f\"Tone {i}\")\n",
    "        if pd.notnull(syll) and pd.notnull(tone):\n",
    "            syllables.append(f\"{syll}|{tone}\")\n",
    "    return \" \".join(syllables)\n",
    "\n",
    "df[\"syllable_transcript\"] = df.apply(combine_syllables, axis=1)"
   ]
  },
  {
   "cell_type": "code",
   "execution_count": 9,
   "id": "b3632b83",
   "metadata": {},
   "outputs": [
    {
     "data": {
      "text/html": [
       "<div>\n",
       "<style scoped>\n",
       "    .dataframe tbody tr th:only-of-type {\n",
       "        vertical-align: middle;\n",
       "    }\n",
       "\n",
       "    .dataframe tbody tr th {\n",
       "        vertical-align: top;\n",
       "    }\n",
       "\n",
       "    .dataframe thead th {\n",
       "        text-align: right;\n",
       "    }\n",
       "</style>\n",
       "<table border=\"1\" class=\"dataframe\">\n",
       "  <thead>\n",
       "    <tr style=\"text-align: right;\">\n",
       "      <th></th>\n",
       "      <th>WordId</th>\n",
       "      <th>Yemba</th>\n",
       "      <th>Speaker</th>\n",
       "      <th>GroupeId</th>\n",
       "      <th>Statement</th>\n",
       "      <th>Syllabe 1</th>\n",
       "      <th>Tone 1</th>\n",
       "      <th>Syllabe 2</th>\n",
       "      <th>Tone 2</th>\n",
       "      <th>Syllabe 3</th>\n",
       "      <th>Tone 3</th>\n",
       "      <th>audio_path</th>\n",
       "      <th>syllable_transcript</th>\n",
       "    </tr>\n",
       "  </thead>\n",
       "  <tbody>\n",
       "    <tr>\n",
       "      <th>0</th>\n",
       "      <td>1</td>\n",
       "      <td>Apa</td>\n",
       "      <td>1</td>\n",
       "      <td>1</td>\n",
       "      <td>1</td>\n",
       "      <td>a</td>\n",
       "      <td>bas</td>\n",
       "      <td>pa</td>\n",
       "      <td>bas</td>\n",
       "      <td>∅</td>\n",
       "      <td>∅</td>\n",
       "      <td>C:/Users/Christian/Desktop/YembaTones/YembaTones An Annotated Dataset for Tonal and Syllabic Analysis of the Yemba Language/Yemba_Dataset/audios/speaker_1/group_1/spkr_1_group_1_statement_1.wav</td>\n",
       "      <td>a|bas pa|bas ∅|∅</td>\n",
       "    </tr>\n",
       "    <tr>\n",
       "      <th>1</th>\n",
       "      <td>2</td>\n",
       "      <td>Apā</td>\n",
       "      <td>1</td>\n",
       "      <td>1</td>\n",
       "      <td>2</td>\n",
       "      <td>a</td>\n",
       "      <td>bas</td>\n",
       "      <td>pā</td>\n",
       "      <td>moyen</td>\n",
       "      <td>∅</td>\n",
       "      <td>∅</td>\n",
       "      <td>C:/Users/Christian/Desktop/YembaTones/YembaTones An Annotated Dataset for Tonal and Syllabic Analysis of the Yemba Language/Yemba_Dataset/audios/speaker_1/group_1/spkr_1_group_1_statement_2.wav</td>\n",
       "      <td>a|bas pā|moyen ∅|∅</td>\n",
       "    </tr>\n",
       "    <tr>\n",
       "      <th>2</th>\n",
       "      <td>3</td>\n",
       "      <td>Apá</td>\n",
       "      <td>1</td>\n",
       "      <td>1</td>\n",
       "      <td>3</td>\n",
       "      <td>a</td>\n",
       "      <td>bas</td>\n",
       "      <td>pá</td>\n",
       "      <td>haut</td>\n",
       "      <td>∅</td>\n",
       "      <td>∅</td>\n",
       "      <td>C:/Users/Christian/Desktop/YembaTones/YembaTones An Annotated Dataset for Tonal and Syllabic Analysis of the Yemba Language/Yemba_Dataset/audios/speaker_1/group_1/spkr_1_group_1_statement_3.wav</td>\n",
       "      <td>a|bas pá|haut ∅|∅</td>\n",
       "    </tr>\n",
       "    <tr>\n",
       "      <th>3</th>\n",
       "      <td>4</td>\n",
       "      <td>Api</td>\n",
       "      <td>1</td>\n",
       "      <td>2</td>\n",
       "      <td>1</td>\n",
       "      <td>a</td>\n",
       "      <td>bas</td>\n",
       "      <td>pi</td>\n",
       "      <td>bas</td>\n",
       "      <td>∅</td>\n",
       "      <td>∅</td>\n",
       "      <td>C:/Users/Christian/Desktop/YembaTones/YembaTones An Annotated Dataset for Tonal and Syllabic Analysis of the Yemba Language/Yemba_Dataset/audios/speaker_1/group_2/spkr_1_group_2_statement_1.wav</td>\n",
       "      <td>a|bas pi|bas ∅|∅</td>\n",
       "    </tr>\n",
       "    <tr>\n",
       "      <th>4</th>\n",
       "      <td>5</td>\n",
       "      <td>Apī</td>\n",
       "      <td>1</td>\n",
       "      <td>2</td>\n",
       "      <td>2</td>\n",
       "      <td>a</td>\n",
       "      <td>bas</td>\n",
       "      <td>pī</td>\n",
       "      <td>moyen</td>\n",
       "      <td>∅</td>\n",
       "      <td>∅</td>\n",
       "      <td>C:/Users/Christian/Desktop/YembaTones/YembaTones An Annotated Dataset for Tonal and Syllabic Analysis of the Yemba Language/Yemba_Dataset/audios/speaker_1/group_2/spkr_1_group_2_statement_2.wav</td>\n",
       "      <td>a|bas pī|moyen  ∅|∅</td>\n",
       "    </tr>\n",
       "  </tbody>\n",
       "</table>\n",
       "</div>"
      ],
      "text/plain": [
       "   WordId Yemba  Speaker  GroupeId  Statement Syllabe 1 Tone 1 Syllabe 2  \\\n",
       "0       1   Apa        1         1          1         a    bas        pa   \n",
       "1       2  Apā        1         1          2         a    bas       pā   \n",
       "2       3  Apá        1         1          3         a    bas       pá   \n",
       "3       4   Api        1         2          1         a    bas        pi   \n",
       "4       5  Apī        1         2          2         a    bas       pī   \n",
       "\n",
       "   Tone 2 Syllabe 3 Tone 3  \\\n",
       "0     bas         ∅      ∅   \n",
       "1   moyen         ∅      ∅   \n",
       "2    haut         ∅      ∅   \n",
       "3     bas         ∅      ∅   \n",
       "4  moyen          ∅      ∅   \n",
       "\n",
       "                                                                                                                                                                                          audio_path  \\\n",
       "0  C:/Users/Christian/Desktop/YembaTones/YembaTones An Annotated Dataset for Tonal and Syllabic Analysis of the Yemba Language/Yemba_Dataset/audios/speaker_1/group_1/spkr_1_group_1_statement_1.wav   \n",
       "1  C:/Users/Christian/Desktop/YembaTones/YembaTones An Annotated Dataset for Tonal and Syllabic Analysis of the Yemba Language/Yemba_Dataset/audios/speaker_1/group_1/spkr_1_group_1_statement_2.wav   \n",
       "2  C:/Users/Christian/Desktop/YembaTones/YembaTones An Annotated Dataset for Tonal and Syllabic Analysis of the Yemba Language/Yemba_Dataset/audios/speaker_1/group_1/spkr_1_group_1_statement_3.wav   \n",
       "3  C:/Users/Christian/Desktop/YembaTones/YembaTones An Annotated Dataset for Tonal and Syllabic Analysis of the Yemba Language/Yemba_Dataset/audios/speaker_1/group_2/spkr_1_group_2_statement_1.wav   \n",
       "4  C:/Users/Christian/Desktop/YembaTones/YembaTones An Annotated Dataset for Tonal and Syllabic Analysis of the Yemba Language/Yemba_Dataset/audios/speaker_1/group_2/spkr_1_group_2_statement_2.wav   \n",
       "\n",
       "    syllable_transcript  \n",
       "0      a|bas pa|bas ∅|∅  \n",
       "1   a|bas pā|moyen ∅|∅  \n",
       "2    a|bas pá|haut ∅|∅  \n",
       "3      a|bas pi|bas ∅|∅  \n",
       "4  a|bas pī|moyen  ∅|∅  "
      ]
     },
     "execution_count": 9,
     "metadata": {},
     "output_type": "execute_result"
    }
   ],
   "source": [
    "df.head()"
   ]
  },
  {
   "cell_type": "markdown",
   "id": "88be3e30",
   "metadata": {},
   "source": [
    "# 2. Extraction des caractéristiques audio avec MelSpectrogram"
   ]
  },
  {
   "cell_type": "code",
   "execution_count": 10,
   "id": "d963b31c",
   "metadata": {},
   "outputs": [],
   "source": [
    "import torchaudio\n",
    "import torch\n",
    "\n",
    "def extract_melspectrogram(file_path, sample_rate=16000, n_mels=80):\n",
    "    try:\n",
    "        waveform, sr = torchaudio.load(file_path)\n",
    "\n",
    "        # Force mono (si 2 canaux, on moyenne)\n",
    "        if waveform.shape[0] > 1:\n",
    "            waveform = waveform.mean(dim=0, keepdim=True)\n",
    "\n",
    "        # Resample si nécessaire\n",
    "        if sr != sample_rate:\n",
    "            resampler = torchaudio.transforms.Resample(sr, sample_rate)\n",
    "            waveform = resampler(waveform)\n",
    "\n",
    "        # Transformer Mel spectrogramme\n",
    "        mel_transform = torchaudio.transforms.MelSpectrogram(\n",
    "            sample_rate=sample_rate,\n",
    "            n_fft=1024,\n",
    "            hop_length=256,\n",
    "            n_mels=n_mels\n",
    "        )\n",
    "        mel_spec = mel_transform(waveform)\n",
    "\n",
    "        # Convertir en dB\n",
    "        mel_spec = torchaudio.transforms.AmplitudeToDB()(mel_spec)\n",
    "\n",
    "        # [1, F, T] → [T, F]\n",
    "        mel_spec = mel_spec.squeeze(0).transpose(0, 1)\n",
    "\n",
    "        # Vérifier la forme finale\n",
    "        if mel_spec.shape[1] != n_mels:\n",
    "            raise ValueError(f\"Mel spectrogram with invalid feature size: {mel_spec.shape}\")\n",
    "\n",
    "        return mel_spec\n",
    "\n",
    "    except Exception as e:\n",
    "        #print(f\"Erreur lors du traitement de {file_path}: {e}\")\n",
    "        raise e\n"
   ]
  },
  {
   "cell_type": "markdown",
   "id": "f2661240",
   "metadata": {},
   "source": [
    "# 3. Tokenisation syllabique et construction du vocabulaire"
   ]
  },
  {
   "cell_type": "code",
   "execution_count": 11,
   "id": "a07f6050",
   "metadata": {},
   "outputs": [],
   "source": [
    "from collections import Counter\n",
    "\n",
    "# Créer un vocabulaire syllabique\n",
    "syllables = df[\"syllable_transcript\"].str.split().sum()\n",
    "syllable_counts = Counter(syllables)\n",
    "vocab = {s: i + 1 for i, s in enumerate(sorted(syllable_counts))}\n",
    "vocab[\"<BLANK>\"] = 0  # pour CTC\n",
    "\n",
    "# Encodage des transcriptions\n",
    "def encode_transcript(syllable_transcript):\n",
    "    return [vocab[s] for s in syllable_transcript.split()]\n",
    "\n",
    "df[\"encoded\"] = df[\"syllable_transcript\"].map(encode_transcript)"
   ]
  },
  {
   "cell_type": "code",
   "execution_count": 12,
   "id": "a9e3145e",
   "metadata": {},
   "outputs": [
    {
     "data": {
      "text/html": [
       "<div>\n",
       "<style scoped>\n",
       "    .dataframe tbody tr th:only-of-type {\n",
       "        vertical-align: middle;\n",
       "    }\n",
       "\n",
       "    .dataframe tbody tr th {\n",
       "        vertical-align: top;\n",
       "    }\n",
       "\n",
       "    .dataframe thead th {\n",
       "        text-align: right;\n",
       "    }\n",
       "</style>\n",
       "<table border=\"1\" class=\"dataframe\">\n",
       "  <thead>\n",
       "    <tr style=\"text-align: right;\">\n",
       "      <th></th>\n",
       "      <th>WordId</th>\n",
       "      <th>Yemba</th>\n",
       "      <th>Speaker</th>\n",
       "      <th>GroupeId</th>\n",
       "      <th>Statement</th>\n",
       "      <th>Syllabe 1</th>\n",
       "      <th>Tone 1</th>\n",
       "      <th>Syllabe 2</th>\n",
       "      <th>Tone 2</th>\n",
       "      <th>Syllabe 3</th>\n",
       "      <th>Tone 3</th>\n",
       "      <th>audio_path</th>\n",
       "      <th>syllable_transcript</th>\n",
       "      <th>encoded</th>\n",
       "    </tr>\n",
       "  </thead>\n",
       "  <tbody>\n",
       "    <tr>\n",
       "      <th>0</th>\n",
       "      <td>1</td>\n",
       "      <td>Apa</td>\n",
       "      <td>1</td>\n",
       "      <td>1</td>\n",
       "      <td>1</td>\n",
       "      <td>a</td>\n",
       "      <td>bas</td>\n",
       "      <td>pa</td>\n",
       "      <td>bas</td>\n",
       "      <td>∅</td>\n",
       "      <td>∅</td>\n",
       "      <td>C:/Users/Christian/Desktop/YembaTones/YembaTones An Annotated Dataset for Tonal and Syllabic Analysis of the Yemba Language/Yemba_Dataset/audios/speaker_1/group_1/spkr_1_group_1_statement_1.wav</td>\n",
       "      <td>a|bas pa|bas ∅|∅</td>\n",
       "      <td>[11, 200, 314]</td>\n",
       "    </tr>\n",
       "    <tr>\n",
       "      <th>1</th>\n",
       "      <td>2</td>\n",
       "      <td>Apā</td>\n",
       "      <td>1</td>\n",
       "      <td>1</td>\n",
       "      <td>2</td>\n",
       "      <td>a</td>\n",
       "      <td>bas</td>\n",
       "      <td>pā</td>\n",
       "      <td>moyen</td>\n",
       "      <td>∅</td>\n",
       "      <td>∅</td>\n",
       "      <td>C:/Users/Christian/Desktop/YembaTones/YembaTones An Annotated Dataset for Tonal and Syllabic Analysis of the Yemba Language/Yemba_Dataset/audios/speaker_1/group_1/spkr_1_group_1_statement_2.wav</td>\n",
       "      <td>a|bas pā|moyen ∅|∅</td>\n",
       "      <td>[11, 203, 314]</td>\n",
       "    </tr>\n",
       "    <tr>\n",
       "      <th>2</th>\n",
       "      <td>3</td>\n",
       "      <td>Apá</td>\n",
       "      <td>1</td>\n",
       "      <td>1</td>\n",
       "      <td>3</td>\n",
       "      <td>a</td>\n",
       "      <td>bas</td>\n",
       "      <td>pá</td>\n",
       "      <td>haut</td>\n",
       "      <td>∅</td>\n",
       "      <td>∅</td>\n",
       "      <td>C:/Users/Christian/Desktop/YembaTones/YembaTones An Annotated Dataset for Tonal and Syllabic Analysis of the Yemba Language/Yemba_Dataset/audios/speaker_1/group_1/spkr_1_group_1_statement_3.wav</td>\n",
       "      <td>a|bas pá|haut ∅|∅</td>\n",
       "      <td>[11, 201, 314]</td>\n",
       "    </tr>\n",
       "    <tr>\n",
       "      <th>3</th>\n",
       "      <td>4</td>\n",
       "      <td>Api</td>\n",
       "      <td>1</td>\n",
       "      <td>2</td>\n",
       "      <td>1</td>\n",
       "      <td>a</td>\n",
       "      <td>bas</td>\n",
       "      <td>pi</td>\n",
       "      <td>bas</td>\n",
       "      <td>∅</td>\n",
       "      <td>∅</td>\n",
       "      <td>C:/Users/Christian/Desktop/YembaTones/YembaTones An Annotated Dataset for Tonal and Syllabic Analysis of the Yemba Language/Yemba_Dataset/audios/speaker_1/group_2/spkr_1_group_2_statement_1.wav</td>\n",
       "      <td>a|bas pi|bas ∅|∅</td>\n",
       "      <td>[11, 209, 314]</td>\n",
       "    </tr>\n",
       "    <tr>\n",
       "      <th>4</th>\n",
       "      <td>5</td>\n",
       "      <td>Apī</td>\n",
       "      <td>1</td>\n",
       "      <td>2</td>\n",
       "      <td>2</td>\n",
       "      <td>a</td>\n",
       "      <td>bas</td>\n",
       "      <td>pī</td>\n",
       "      <td>moyen</td>\n",
       "      <td>∅</td>\n",
       "      <td>∅</td>\n",
       "      <td>C:/Users/Christian/Desktop/YembaTones/YembaTones An Annotated Dataset for Tonal and Syllabic Analysis of the Yemba Language/Yemba_Dataset/audios/speaker_1/group_2/spkr_1_group_2_statement_2.wav</td>\n",
       "      <td>a|bas pī|moyen  ∅|∅</td>\n",
       "      <td>[11, 212, 314]</td>\n",
       "    </tr>\n",
       "  </tbody>\n",
       "</table>\n",
       "</div>"
      ],
      "text/plain": [
       "   WordId Yemba  Speaker  GroupeId  Statement Syllabe 1 Tone 1 Syllabe 2  \\\n",
       "0       1   Apa        1         1          1         a    bas        pa   \n",
       "1       2  Apā        1         1          2         a    bas       pā   \n",
       "2       3  Apá        1         1          3         a    bas       pá   \n",
       "3       4   Api        1         2          1         a    bas        pi   \n",
       "4       5  Apī        1         2          2         a    bas       pī   \n",
       "\n",
       "   Tone 2 Syllabe 3 Tone 3  \\\n",
       "0     bas         ∅      ∅   \n",
       "1   moyen         ∅      ∅   \n",
       "2    haut         ∅      ∅   \n",
       "3     bas         ∅      ∅   \n",
       "4  moyen          ∅      ∅   \n",
       "\n",
       "                                                                                                                                                                                          audio_path  \\\n",
       "0  C:/Users/Christian/Desktop/YembaTones/YembaTones An Annotated Dataset for Tonal and Syllabic Analysis of the Yemba Language/Yemba_Dataset/audios/speaker_1/group_1/spkr_1_group_1_statement_1.wav   \n",
       "1  C:/Users/Christian/Desktop/YembaTones/YembaTones An Annotated Dataset for Tonal and Syllabic Analysis of the Yemba Language/Yemba_Dataset/audios/speaker_1/group_1/spkr_1_group_1_statement_2.wav   \n",
       "2  C:/Users/Christian/Desktop/YembaTones/YembaTones An Annotated Dataset for Tonal and Syllabic Analysis of the Yemba Language/Yemba_Dataset/audios/speaker_1/group_1/spkr_1_group_1_statement_3.wav   \n",
       "3  C:/Users/Christian/Desktop/YembaTones/YembaTones An Annotated Dataset for Tonal and Syllabic Analysis of the Yemba Language/Yemba_Dataset/audios/speaker_1/group_2/spkr_1_group_2_statement_1.wav   \n",
       "4  C:/Users/Christian/Desktop/YembaTones/YembaTones An Annotated Dataset for Tonal and Syllabic Analysis of the Yemba Language/Yemba_Dataset/audios/speaker_1/group_2/spkr_1_group_2_statement_2.wav   \n",
       "\n",
       "    syllable_transcript         encoded  \n",
       "0      a|bas pa|bas ∅|∅  [11, 200, 314]  \n",
       "1   a|bas pā|moyen ∅|∅  [11, 203, 314]  \n",
       "2    a|bas pá|haut ∅|∅  [11, 201, 314]  \n",
       "3      a|bas pi|bas ∅|∅  [11, 209, 314]  \n",
       "4  a|bas pī|moyen  ∅|∅  [11, 212, 314]  "
      ]
     },
     "execution_count": 12,
     "metadata": {},
     "output_type": "execute_result"
    }
   ],
   "source": [
    "df.head()"
   ]
  },
  {
   "cell_type": "code",
   "execution_count": 13,
   "id": "6ac68f8a",
   "metadata": {},
   "outputs": [
    {
     "data": {
      "text/plain": [
       "3779    C:/Users/Christian/Desktop/YembaTones/YembaTones An Annotated Dataset for Tonal and Syllabic Analysis of the Yemba Language/Yemba_Dataset/audios/speaker_11/group_146/spkr_11_group_146_statement_2.wav\n",
       "3780    C:/Users/Christian/Desktop/YembaTones/YembaTones An Annotated Dataset for Tonal and Syllabic Analysis of the Yemba Language/Yemba_Dataset/audios/speaker_11/group_147/spkr_11_group_147_statement_1.wav\n",
       "3781    C:/Users/Christian/Desktop/YembaTones/YembaTones An Annotated Dataset for Tonal and Syllabic Analysis of the Yemba Language/Yemba_Dataset/audios/speaker_11/group_147/spkr_11_group_147_statement_2.wav\n",
       "3782    C:/Users/Christian/Desktop/YembaTones/YembaTones An Annotated Dataset for Tonal and Syllabic Analysis of the Yemba Language/Yemba_Dataset/audios/speaker_11/group_148/spkr_11_group_148_statement_1.wav\n",
       "3783    C:/Users/Christian/Desktop/YembaTones/YembaTones An Annotated Dataset for Tonal and Syllabic Analysis of the Yemba Language/Yemba_Dataset/audios/speaker_11/group_148/spkr_11_group_148_statement_2.wav\n",
       "Name: audio_path, dtype: object"
      ]
     },
     "execution_count": 13,
     "metadata": {},
     "output_type": "execute_result"
    }
   ],
   "source": [
    "df[\"audio_path\"].tail()"
   ]
  },
  {
   "cell_type": "code",
   "execution_count": 14,
   "id": "7c8ebd4f",
   "metadata": {},
   "outputs": [
    {
     "name": "stdout",
     "output_type": "stream",
     "text": [
      "Fichiers manquants : 0\n",
      "Empty DataFrame\n",
      "Columns: [audio_path, Speaker, GroupeId, Statement]\n",
      "Index: []\n"
     ]
    }
   ],
   "source": [
    "df[\"exists\"] = df[\"audio_path\"].apply(lambda p: os.path.exists(p))\n",
    "df = df[df[\"exists\"]]\n",
    "\n",
    "missing = df[~df[\"exists\"]]\n",
    "print(\"Fichiers manquants :\", len(missing))\n",
    "print(missing[[\"audio_path\", \"Speaker\", \"GroupeId\", \"Statement\"]].head())\n"
   ]
  },
  {
   "cell_type": "markdown",
   "id": "cf70196b",
   "metadata": {},
   "source": [
    "# 4. Split en train/valid/test (80/10/10)"
   ]
  },
  {
   "cell_type": "code",
   "execution_count": 99,
   "id": "1b993bef",
   "metadata": {},
   "outputs": [
    {
     "name": "stdout",
     "output_type": "stream",
     "text": [
      "2684 train\n",
      "335 val\n",
      "336 test\n"
     ]
    }
   ],
   "source": [
    "from sklearn.model_selection import train_test_split\n",
    "\n",
    "train, test = train_test_split(df, test_size=0.2, random_state=42)\n",
    "val, test = train_test_split(test, test_size=0.5, random_state=42)\n",
    "\n",
    "print(len(train), \"train\")\n",
    "print(len(val), \"val\")\n",
    "print(len(test), \"test\")\n"
   ]
  },
  {
   "cell_type": "code",
   "execution_count": 100,
   "id": "86635be8",
   "metadata": {},
   "outputs": [
    {
     "data": {
      "text/plain": [
       "Index(['WordId', 'Yemba', 'Speaker', 'GroupeId', 'Statement', 'Syllabe 1',\n",
       "       'Tone 1', 'Syllabe 2', 'Tone 2', 'Syllabe 3', 'Tone 3', 'audio_path',\n",
       "       'syllable_transcript', 'encoded', 'exists'],\n",
       "      dtype='object')"
      ]
     },
     "execution_count": 100,
     "metadata": {},
     "output_type": "execute_result"
    }
   ],
   "source": [
    "train.columns"
   ]
  },
  {
   "cell_type": "code",
   "execution_count": 101,
   "id": "2825cf7e",
   "metadata": {},
   "outputs": [],
   "source": [
    "train = train.rename(columns={\"audio_path\": \"path\"})\n",
    "val = val.rename(columns={\"audio_path\": \"path\"})\n",
    "test = test.rename(columns={\"audio_path\": \"path\"})\n"
   ]
  },
  {
   "cell_type": "code",
   "execution_count": 120,
   "id": "5dda2a24",
   "metadata": {},
   "outputs": [],
   "source": [
    "# Vérifie que 'path' et 'encoded' sont bien dans chaque ligne\n",
    "train = train[train['path'].notnull() & train['encoded'].notnull()]\n",
    "val = val[val['path'].notnull() & val['encoded'].notnull()]\n",
    "test = test[test['path'].notnull() & test['encoded'].notnull()]\n"
   ]
  },
  {
   "cell_type": "markdown",
   "id": "f1f3e977",
   "metadata": {},
   "source": [
    "# 5. Dataset & DataLoader PyTorch"
   ]
  },
  {
   "cell_type": "code",
   "execution_count": 121,
   "id": "e35404ae",
   "metadata": {},
   "outputs": [],
   "source": [
    "from torch.utils.data import Dataset\n",
    "import torch\n",
    "\n",
    "class YembaDataset(Dataset):\n",
    "    def __init__(self, dataframe, processor, vocab):\n",
    "        \"\"\"\n",
    "        Args:\n",
    "            dataframe: DataFrame contenant les colonnes 'path' et 'encoded'\n",
    "            processor: fonction pour extraire un Mel spectrogramme à partir d'un fichier audio\n",
    "            vocab: dictionnaire {syllabe: index}\n",
    "        \"\"\"\n",
    "        self.data = dataframe\n",
    "        self.processor = processor\n",
    "        self.vocab = vocab\n",
    "\n",
    "    def __len__(self):\n",
    "        return len(self.data)\n",
    "\n",
    "    def __getitem__(self, idx):\n",
    "        try:\n",
    "            row = self.data.iloc[idx]\n",
    "            audio_path = row[\"path\"]\n",
    "            target_seq = row[\"encoded\"]\n",
    "\n",
    "            # 1. Extraire les features [T, F]\n",
    "            mel_spec = self.processor(audio_path)\n",
    "\n",
    "            # 2. Convertir les cibles en Tensor\n",
    "            target_tensor = torch.tensor(target_seq, dtype=torch.long)\n",
    "\n",
    "            return mel_spec, target_tensor\n",
    "\n",
    "        except Exception as e:\n",
    "            print(f\"[!] Erreur à l’index {idx} : {e}\")\n",
    "            return None\n"
   ]
  },
  {
   "cell_type": "markdown",
   "id": "c7f9abcc",
   "metadata": {},
   "source": [
    "# 6. Collate function pour padding"
   ]
  },
  {
   "cell_type": "code",
   "execution_count": 122,
   "id": "3a50feef",
   "metadata": {},
   "outputs": [],
   "source": [
    "import torch\n",
    "import torch.nn.utils.rnn as rnn_utils\n",
    "\n",
    "PAD_TOKEN = \"<pad>\"\n",
    "PAD_IDX = vocab.get(PAD_TOKEN, 0)\n",
    "\n",
    "def collate_fn(batch):\n",
    "    \"\"\"\n",
    "    Collate function pour DataLoader :\n",
    "    batch : list de tuples (mel_spec, target_tensor)\n",
    "            - mel_spec: Tensor de forme [T, F]\n",
    "            - target_tensor: Tensor de forme [L]\n",
    "    \"\"\"\n",
    "    # Supprimer les entrées invalides\n",
    "    batch = [sample for sample in batch if sample is not None]\n",
    "    \n",
    "    for i, item in enumerate(batch):\n",
    "        if not isinstance(item, tuple):\n",
    "            print(f\"[!] Élément invalide à l’index {i} : {item}\")\n",
    "        elif not isinstance(item[0], torch.Tensor):\n",
    "            print(f\"[!] Mel_spec invalide à l’index {i} : {item[0]}\")\n",
    "        elif not isinstance(item[1], torch.Tensor):\n",
    "            print(f\"[!] Target invalide à l’index {i} : {item[1]}\")\n",
    "\n",
    "    # Décompacter les mel_specs et cibles\n",
    "    mels, targets = zip(*batch)\n",
    "\n",
    "    # Pad des mel spectrogrammes (batch_first = True → [B, Tmax, F])\n",
    "    mels_padded = rnn_utils.pad_sequence(mels, batch_first=True)\n",
    "    input_lengths = torch.tensor([mel.shape[0] for mel in mels], dtype=torch.long)\n",
    "\n",
    "    # Pad des séquences cibles\n",
    "    targets_padded = rnn_utils.pad_sequence(targets, batch_first=True, padding_value=PAD_IDX)\n",
    "    target_lengths = torch.tensor([t.shape[0] for t in targets], dtype=torch.long)\n",
    "\n",
    "    return mels_padded, targets_padded, input_lengths, target_lengths\n"
   ]
  },
  {
   "cell_type": "code",
   "execution_count": 123,
   "id": "966cc032",
   "metadata": {},
   "outputs": [],
   "source": [
    "from torch.utils.data import DataLoader\n",
    "\n",
    "train_dataset = YembaDataset(train, processor=extract_melspectrogram, vocab=vocab)\n",
    "val_dataset = YembaDataset(val, processor=extract_melspectrogram, vocab=vocab)\n",
    "test_dataset = YembaDataset(test, processor=extract_melspectrogram, vocab=vocab)\n",
    "\n",
    "\n",
    "train_loader = DataLoader(train_dataset, batch_size=8, shuffle=True, collate_fn=collate_fn)\n",
    "val_loader = DataLoader(val_dataset, batch_size=8, shuffle=False, collate_fn=collate_fn)\n",
    "test_loader = DataLoader(test_dataset, batch_size=8, shuffle=False, collate_fn=collate_fn)"
   ]
  },
  {
   "cell_type": "markdown",
   "id": "26745023",
   "metadata": {},
   "source": [
    "# 7. Modèle GRU+ATTENTION"
   ]
  },
  {
   "cell_type": "code",
   "execution_count": 72,
   "id": "813437bf",
   "metadata": {},
   "outputs": [],
   "source": [
    "import torch\n",
    "import torch.nn as nn\n",
    "import torch.nn.functional as F\n",
    "\n",
    "class GRUEncoder(nn.Module):\n",
    "    def __init__(self, input_dim, hidden_dim, num_layers=2, dropout=0.3):\n",
    "        super().__init__()\n",
    "        self.hidden_dim = hidden_dim\n",
    "        self.num_layers = num_layers\n",
    "        self.gru = nn.GRU(input_dim, hidden_dim, num_layers=num_layers,\n",
    "                          batch_first=True, bidirectional=True, dropout=dropout)\n",
    "\n",
    "    def forward(self, x):\n",
    "        outputs, hidden = self.gru(x)  # outputs: [B, T, 2*H], hidden: [2L, B, H]\n",
    "        return outputs, hidden\n",
    "\n",
    "\n",
    "class Attention(nn.Module):\n",
    "    def __init__(self, hidden_dim):\n",
    "        super().__init__()\n",
    "        self.attn = nn.Linear(hidden_dim * 3, 1)\n",
    "\n",
    "    def forward(self, decoder_hidden, encoder_outputs):\n",
    "        # decoder_hidden: [B, H]\n",
    "        # encoder_outputs: [B, T, 2*H]\n",
    "        seq_len = encoder_outputs.size(1)\n",
    "        decoder_hidden = decoder_hidden.unsqueeze(1).repeat(1, seq_len, 1)  # [B, T, H]\n",
    "        concat = torch.cat((decoder_hidden, encoder_outputs), dim=2)        # [B, T, 3H]\n",
    "        energy = self.attn(concat).squeeze(2)                               # [B, T]\n",
    "        attn_weights = F.softmax(energy, dim=1)                             # [B, T]\n",
    "        context = torch.bmm(attn_weights.unsqueeze(1), encoder_outputs)     # [B, 1, 2H]\n",
    "        return context.squeeze(1), attn_weights\n",
    "\n",
    "\n",
    "class GRUDecoder(nn.Module):\n",
    "    def __init__(self, hidden_dim, output_dim, num_layers=1, dropout=0.3):\n",
    "        super().__init__()\n",
    "        self.gru = nn.GRU(hidden_dim * 2, hidden_dim, num_layers=num_layers,\n",
    "                          batch_first=True, dropout=dropout)\n",
    "        self.out = nn.Linear(hidden_dim, output_dim)\n",
    "\n",
    "    def forward(self, context_vector, hidden):\n",
    "        # context_vector: [B, 2H] → expand to [B, 1, 2H]\n",
    "        input_step = context_vector.unsqueeze(1)\n",
    "        output, hidden = self.gru(input_step, hidden)  # output: [B, 1, H]\n",
    "        prediction = self.out(output.squeeze(1))       # [B, vocab_size]\n",
    "        return prediction, hidden\n",
    "\n",
    "\n",
    "class GRUSeq2Seq(nn.Module):\n",
    "    def __init__(self, input_dim, hidden_dim, vocab_size, encoder_layers=2, decoder_layers=1):\n",
    "        super().__init__()\n",
    "        self.bridge = nn.Linear(hidden_dim * 2, hidden_dim)\n",
    "        self.encoder = GRUEncoder(input_dim, hidden_dim, encoder_layers)\n",
    "        self.attention = Attention(hidden_dim)\n",
    "        self.decoder = GRUDecoder(hidden_dim, vocab_size, decoder_layers)\n",
    "        self.hidden_dim = hidden_dim\n",
    "        self.encoder_layers = encoder_layers\n",
    "\n",
    "    def forward(self, x, max_len=100):\n",
    "        encoder_outputs, hidden = self.encoder(x)  # hidden: [2*num_layers, B, H]\n",
    "        batch_size = x.size(0)\n",
    "\n",
    "        # [2*L, B, H] → [L, 2, B, H]\n",
    "        hidden = hidden.view(self.encoder_layers, 2, batch_size, self.hidden_dim)\n",
    "\n",
    "        # Concat direction=0 et direction=1 → [L, B, 2H]\n",
    "        hidden_cat = torch.cat((hidden[:, 0], hidden[:, 1]), dim=-1)\n",
    "\n",
    "        # Projeter en [L, B, H] via Linear (bridge)\n",
    "        if not hasattr(self, \"bridge\"):\n",
    "            self.bridge = nn.Linear(self.hidden_dim * 2, self.hidden_dim).to(hidden_cat.device)\n",
    "\n",
    "        hidden_proj = self.bridge(hidden_cat)  # [L, B, H]\n",
    "\n",
    "        # Si besoin, adapter au nombre de couches du décodeur\n",
    "        if self.encoder_layers < self.decoder.gru.num_layers:\n",
    "            # Répéter pour compléter\n",
    "            num_missing = self.decoder.gru.num_layers - self.encoder_layers\n",
    "            repeat_hidden = hidden_proj[-1:, :, :].repeat(num_missing, 1, 1)\n",
    "            hidden_proj = torch.cat([hidden_proj, repeat_hidden], dim=0)\n",
    "        elif self.encoder_layers > self.decoder.gru.num_layers:\n",
    "            hidden_proj = hidden_proj[:self.decoder.gru.num_layers]\n",
    "\n",
    "        hidden = hidden_proj  # [decoder_layers, B, H]\n",
    "\n",
    "        outputs = []\n",
    "        for _ in range(max_len):\n",
    "            context, attn_weights = self.attention(hidden[-1], encoder_outputs)  # [B, 2H]\n",
    "            prediction, hidden = self.decoder(context, hidden)  # hidden: [decoder_layers, B, H]\n",
    "            outputs.append(prediction)\n",
    "\n",
    "        outputs = torch.stack(outputs, dim=1)  # [B, max_len, vocab_size]\n",
    "        return outputs\n"
   ]
  },
  {
   "cell_type": "code",
   "execution_count": 73,
   "id": "4ce34d37",
   "metadata": {},
   "outputs": [
    {
     "name": "stderr",
     "output_type": "stream",
     "text": [
      "C:\\Users\\Christian\\anaconda3\\Lib\\site-packages\\torch\\nn\\modules\\rnn.py:123: UserWarning: dropout option adds dropout after all but last recurrent layer, so non-zero dropout expects num_layers greater than 1, but got dropout=0.3 and num_layers=1\n",
      "  warnings.warn(\n"
     ]
    }
   ],
   "source": [
    "import torch\n",
    "import torch.nn as nn\n",
    "from model import GRUSeq2Seq  # si défini dans model.py\n",
    "# ou bien directement : from ton_module import GRUSeq2Seq\n",
    "\n",
    "device = torch.device(\"cuda\" if torch.cuda.is_available() else \"cpu\")\n",
    "\n",
    "# Instanciation du modèle avec ton vocabulaire\n",
    "model = GRUSeq2Seq(input_dim=80, hidden_dim=256, vocab_size=len(vocab)).to(device)\n",
    "\n",
    "# Critère de perte adapté à une sortie par pas de temps\n",
    "PAD_TOKEN = \"<pad>\"\n",
    "PAD_IDX = vocab[PAD_TOKEN] if PAD_TOKEN in vocab else 0  # ou choisis un autre index\n",
    "criterion = nn.CrossEntropyLoss(ignore_index=PAD_IDX)  # définir PAD_IDX selon ton vocab\n",
    "optimizer = torch.optim.Adam(model.parameters(), lr=1e-3)\n",
    "\n",
    "# Inverse vocab pour décodage (inchangé)\n",
    "vocab_inv = {v: k for k, v in vocab.items()}\n"
   ]
  },
  {
   "cell_type": "code",
   "execution_count": 74,
   "id": "3988928f",
   "metadata": {},
   "outputs": [],
   "source": [
    "import json\n",
    "\n",
    "with open(\"vocab4.json\", \"w\", encoding=\"utf-8\") as f:\n",
    "    json.dump(vocab, f, ensure_ascii=False, indent=2)\n"
   ]
  },
  {
   "cell_type": "markdown",
   "id": "f6a94445",
   "metadata": {},
   "source": [
    "# 8. Entraînement"
   ]
  },
  {
   "cell_type": "code",
   "execution_count": 75,
   "id": "020eea6d",
   "metadata": {},
   "outputs": [],
   "source": [
    "from torch.nn import CTCLoss\n",
    "from torch.utils.data import DataLoader\n",
    "from tqdm import tqdm\n",
    "\n",
    "model = GRUSeq2Seq(input_dim=80, hidden_dim=256, vocab_size=len(vocab),\n",
    "                   encoder_layers=2, decoder_layers=2).to(device)\n",
    "PAD_TOKEN = \"<pad>\"\n",
    "PAD_IDX = vocab.get(PAD_TOKEN, 0)\n",
    "criterion = nn.CrossEntropyLoss(ignore_index=PAD_IDX)\n",
    "optimizer = torch.optim.Adam(model.parameters(), lr=1e-3)\n",
    "\n",
    "def train_epoch():\n",
    "    model.train()\n",
    "    epoch_loss = 0\n",
    "    for mel, target, input_lens, target_lens in tqdm(train_loader):\n",
    "        mel = mel.to(device)                 # [B, T, F]\n",
    "        target = target.to(device)           # [B, L]  (déjà pad)\n",
    "        \n",
    "        output = model(mel, max_len=target.shape[1])  # [B, L, vocab_size]\n",
    "        \n",
    "        # Reshape for CrossEntropy: [B*L, vocab_size] vs [B*L]\n",
    "        output = output.view(-1, output.size(2))  # [B*L, V]\n",
    "        target = target.view(-1)                  # [B*L]\n",
    "        \n",
    "        loss = criterion(output, target)\n",
    "        optimizer.zero_grad()\n",
    "        loss.backward()\n",
    "        optimizer.step()\n",
    "        epoch_loss += loss.item()\n",
    "    return epoch_loss / len(train_loader)\n",
    "\n"
   ]
  },
  {
   "cell_type": "code",
   "execution_count": 76,
   "id": "817f6e5b",
   "metadata": {
    "scrolled": true
   },
   "outputs": [
    {
     "name": "stdout",
     "output_type": "stream",
     "text": [
      "\n",
      "--- Époque 1 ---\n"
     ]
    },
    {
     "name": "stderr",
     "output_type": "stream",
     "text": [
      " 89%|████████▉ | 299/336 [06:56<00:32,  1.15it/s]"
     ]
    },
    {
     "name": "stdout",
     "output_type": "stream",
     "text": [
      "[!] Erreur à l’index 214 : Error opening 'C:/Users/Christian/Desktop/YembaTones/YembaTones An Annotated Dataset for Tonal and Syllabic Analysis of the Yemba Language/Yemba_Dataset/audios/speaker_9/group_81/spkr_9_group_81_statement_1.wav': Format not recognised.\n"
     ]
    },
    {
     "name": "stderr",
     "output_type": "stream",
     "text": [
      "100%|██████████| 336/336 [07:52<00:00,  1.40s/it]\n"
     ]
    },
    {
     "name": "stdout",
     "output_type": "stream",
     "text": [
      "Perte entraînement : 2.9458\n",
      "Perte validation : 2.8157\n",
      "[!] Erreur à l’index 214 : Error opening 'C:/Users/Christian/Desktop/YembaTones/YembaTones An Annotated Dataset for Tonal and Syllabic Analysis of the Yemba Language/Yemba_Dataset/audios/speaker_9/group_81/spkr_9_group_81_statement_1.wav': Format not recognised.\n",
      "WER entraînement : 0.7798\n",
      "WER validation   : 0.7757\n",
      "Temps écoulé : 624.51s\n",
      "✅ Nouveau meilleur modèle sauvegardé\n",
      "\n",
      "--- Époque 2 ---\n"
     ]
    },
    {
     "name": "stderr",
     "output_type": "stream",
     "text": [
      " 31%|███       | 103/336 [01:52<05:21,  1.38s/it]"
     ]
    },
    {
     "name": "stdout",
     "output_type": "stream",
     "text": [
      "[!] Erreur à l’index 214 : Error opening 'C:/Users/Christian/Desktop/YembaTones/YembaTones An Annotated Dataset for Tonal and Syllabic Analysis of the Yemba Language/Yemba_Dataset/audios/speaker_9/group_81/spkr_9_group_81_statement_1.wav': Format not recognised.\n"
     ]
    },
    {
     "name": "stderr",
     "output_type": "stream",
     "text": [
      "100%|██████████| 336/336 [06:13<00:00,  1.11s/it]\n"
     ]
    },
    {
     "name": "stdout",
     "output_type": "stream",
     "text": [
      "Perte entraînement : 2.7431\n",
      "Perte validation : 2.7183\n",
      "[!] Erreur à l’index 214 : Error opening 'C:/Users/Christian/Desktop/YembaTones/YembaTones An Annotated Dataset for Tonal and Syllabic Analysis of the Yemba Language/Yemba_Dataset/audios/speaker_9/group_81/spkr_9_group_81_statement_1.wav': Format not recognised.\n",
      "WER entraînement : 0.7538\n",
      "WER validation   : 0.7644\n",
      "Temps écoulé : 492.98s\n",
      "✅ Nouveau meilleur modèle sauvegardé\n",
      "\n",
      "--- Époque 3 ---\n"
     ]
    },
    {
     "name": "stderr",
     "output_type": "stream",
     "text": [
      " 21%|██        | 70/336 [01:10<03:24,  1.30it/s]"
     ]
    },
    {
     "name": "stdout",
     "output_type": "stream",
     "text": [
      "[!] Erreur à l’index 214 : Error opening 'C:/Users/Christian/Desktop/YembaTones/YembaTones An Annotated Dataset for Tonal and Syllabic Analysis of the Yemba Language/Yemba_Dataset/audios/speaker_9/group_81/spkr_9_group_81_statement_1.wav': Format not recognised.\n"
     ]
    },
    {
     "name": "stderr",
     "output_type": "stream",
     "text": [
      "100%|██████████| 336/336 [05:58<00:00,  1.07s/it]\n"
     ]
    },
    {
     "name": "stdout",
     "output_type": "stream",
     "text": [
      "Perte entraînement : 2.6363\n",
      "Perte validation : 2.6487\n",
      "[!] Erreur à l’index 214 : Error opening 'C:/Users/Christian/Desktop/YembaTones/YembaTones An Annotated Dataset for Tonal and Syllabic Analysis of the Yemba Language/Yemba_Dataset/audios/speaker_9/group_81/spkr_9_group_81_statement_1.wav': Format not recognised.\n",
      "WER entraînement : 0.7501\n",
      "WER validation   : 0.7597\n",
      "Temps écoulé : 486.91s\n",
      "✅ Nouveau meilleur modèle sauvegardé\n",
      "\n",
      "--- Époque 4 ---\n"
     ]
    },
    {
     "name": "stderr",
     "output_type": "stream",
     "text": [
      " 60%|██████    | 203/336 [03:57<01:47,  1.23it/s]"
     ]
    },
    {
     "name": "stdout",
     "output_type": "stream",
     "text": [
      "[!] Erreur à l’index 214 : Error opening 'C:/Users/Christian/Desktop/YembaTones/YembaTones An Annotated Dataset for Tonal and Syllabic Analysis of the Yemba Language/Yemba_Dataset/audios/speaker_9/group_81/spkr_9_group_81_statement_1.wav': Format not recognised.\n"
     ]
    },
    {
     "name": "stderr",
     "output_type": "stream",
     "text": [
      "100%|██████████| 336/336 [06:20<00:00,  1.13s/it]\n"
     ]
    },
    {
     "name": "stdout",
     "output_type": "stream",
     "text": [
      "Perte entraînement : 2.4870\n",
      "Perte validation : 2.6253\n",
      "[!] Erreur à l’index 214 : Error opening 'C:/Users/Christian/Desktop/YembaTones/YembaTones An Annotated Dataset for Tonal and Syllabic Analysis of the Yemba Language/Yemba_Dataset/audios/speaker_9/group_81/spkr_9_group_81_statement_1.wav': Format not recognised.\n",
      "WER entraînement : 0.7411\n",
      "WER validation   : 0.7606\n",
      "Temps écoulé : 497.45s\n",
      "✅ Nouveau meilleur modèle sauvegardé\n",
      "\n",
      "--- Époque 5 ---\n"
     ]
    },
    {
     "name": "stderr",
     "output_type": "stream",
     "text": [
      " 22%|██▏       | 75/336 [01:34<04:48,  1.11s/it]"
     ]
    },
    {
     "name": "stdout",
     "output_type": "stream",
     "text": [
      "[!] Erreur à l’index 214 : Error opening 'C:/Users/Christian/Desktop/YembaTones/YembaTones An Annotated Dataset for Tonal and Syllabic Analysis of the Yemba Language/Yemba_Dataset/audios/speaker_9/group_81/spkr_9_group_81_statement_1.wav': Format not recognised.\n"
     ]
    },
    {
     "name": "stderr",
     "output_type": "stream",
     "text": [
      "100%|██████████| 336/336 [07:42<00:00,  1.38s/it]\n"
     ]
    },
    {
     "name": "stdout",
     "output_type": "stream",
     "text": [
      "Perte entraînement : 2.3666\n",
      "Perte validation : 2.3873\n",
      "[!] Erreur à l’index 214 : Error opening 'C:/Users/Christian/Desktop/YembaTones/YembaTones An Annotated Dataset for Tonal and Syllabic Analysis of the Yemba Language/Yemba_Dataset/audios/speaker_9/group_81/spkr_9_group_81_statement_1.wav': Format not recognised.\n",
      "WER entraînement : 0.7413\n",
      "WER validation   : 0.7625\n",
      "Temps écoulé : 635.07s\n",
      "✅ Nouveau meilleur modèle sauvegardé\n",
      "\n",
      "--- Époque 6 ---\n"
     ]
    },
    {
     "name": "stderr",
     "output_type": "stream",
     "text": [
      " 82%|████████▏ | 277/336 [06:20<01:47,  1.83s/it]"
     ]
    },
    {
     "name": "stdout",
     "output_type": "stream",
     "text": [
      "[!] Erreur à l’index 214 : Error opening 'C:/Users/Christian/Desktop/YembaTones/YembaTones An Annotated Dataset for Tonal and Syllabic Analysis of the Yemba Language/Yemba_Dataset/audios/speaker_9/group_81/spkr_9_group_81_statement_1.wav': Format not recognised.\n"
     ]
    },
    {
     "name": "stderr",
     "output_type": "stream",
     "text": [
      "100%|██████████| 336/336 [07:43<00:00,  1.38s/it]\n"
     ]
    },
    {
     "name": "stdout",
     "output_type": "stream",
     "text": [
      "Perte entraînement : 2.3081\n",
      "Perte validation : 2.3415\n",
      "[!] Erreur à l’index 214 : Error opening 'C:/Users/Christian/Desktop/YembaTones/YembaTones An Annotated Dataset for Tonal and Syllabic Analysis of the Yemba Language/Yemba_Dataset/audios/speaker_9/group_81/spkr_9_group_81_statement_1.wav': Format not recognised.\n",
      "WER entraînement : 0.7252\n",
      "WER validation   : 0.7370\n",
      "Temps écoulé : 625.62s\n",
      "✅ Nouveau meilleur modèle sauvegardé\n",
      "\n",
      "--- Époque 7 ---\n"
     ]
    },
    {
     "name": "stderr",
     "output_type": "stream",
     "text": [
      " 73%|███████▎  | 246/336 [05:02<01:21,  1.11it/s]"
     ]
    },
    {
     "name": "stdout",
     "output_type": "stream",
     "text": [
      "[!] Erreur à l’index 214 : Error opening 'C:/Users/Christian/Desktop/YembaTones/YembaTones An Annotated Dataset for Tonal and Syllabic Analysis of the Yemba Language/Yemba_Dataset/audios/speaker_9/group_81/spkr_9_group_81_statement_1.wav': Format not recognised.\n"
     ]
    },
    {
     "name": "stderr",
     "output_type": "stream",
     "text": [
      "100%|██████████| 336/336 [07:04<00:00,  1.26s/it]\n"
     ]
    },
    {
     "name": "stdout",
     "output_type": "stream",
     "text": [
      "Perte entraînement : 2.2281\n",
      "Perte validation : 2.3457\n",
      "[!] Erreur à l’index 214 : Error opening 'C:/Users/Christian/Desktop/YembaTones/YembaTones An Annotated Dataset for Tonal and Syllabic Analysis of the Yemba Language/Yemba_Dataset/audios/speaker_9/group_81/spkr_9_group_81_statement_1.wav': Format not recognised.\n",
      "WER entraînement : 0.7172\n",
      "WER validation   : 0.7380\n",
      "Temps écoulé : 590.35s\n",
      "\n",
      "--- Époque 8 ---\n"
     ]
    },
    {
     "name": "stderr",
     "output_type": "stream",
     "text": [
      " 22%|██▏       | 74/336 [01:48<06:24,  1.47s/it]"
     ]
    },
    {
     "name": "stdout",
     "output_type": "stream",
     "text": [
      "[!] Erreur à l’index 214 : Error opening 'C:/Users/Christian/Desktop/YembaTones/YembaTones An Annotated Dataset for Tonal and Syllabic Analysis of the Yemba Language/Yemba_Dataset/audios/speaker_9/group_81/spkr_9_group_81_statement_1.wav': Format not recognised.\n"
     ]
    },
    {
     "name": "stderr",
     "output_type": "stream",
     "text": [
      "100%|██████████| 336/336 [07:51<00:00,  1.40s/it]\n"
     ]
    },
    {
     "name": "stdout",
     "output_type": "stream",
     "text": [
      "Perte entraînement : 2.1743\n",
      "Perte validation : 2.2842\n",
      "[!] Erreur à l’index 214 : Error opening 'C:/Users/Christian/Desktop/YembaTones/YembaTones An Annotated Dataset for Tonal and Syllabic Analysis of the Yemba Language/Yemba_Dataset/audios/speaker_9/group_81/spkr_9_group_81_statement_1.wav': Format not recognised.\n",
      "WER entraînement : 0.6958\n",
      "WER validation   : 0.7276\n",
      "Temps écoulé : 602.08s\n",
      "✅ Nouveau meilleur modèle sauvegardé\n",
      "\n",
      "--- Époque 9 ---\n"
     ]
    },
    {
     "name": "stderr",
     "output_type": "stream",
     "text": [
      " 81%|████████  | 272/336 [05:01<01:09,  1.08s/it]"
     ]
    },
    {
     "name": "stdout",
     "output_type": "stream",
     "text": [
      "[!] Erreur à l’index 214 : Error opening 'C:/Users/Christian/Desktop/YembaTones/YembaTones An Annotated Dataset for Tonal and Syllabic Analysis of the Yemba Language/Yemba_Dataset/audios/speaker_9/group_81/spkr_9_group_81_statement_1.wav': Format not recognised.\n"
     ]
    },
    {
     "name": "stderr",
     "output_type": "stream",
     "text": [
      "100%|██████████| 336/336 [06:11<00:00,  1.11s/it]\n"
     ]
    },
    {
     "name": "stdout",
     "output_type": "stream",
     "text": [
      "Perte entraînement : 2.1266\n",
      "Perte validation : 2.2977\n",
      "[!] Erreur à l’index 214 : Error opening 'C:/Users/Christian/Desktop/YembaTones/YembaTones An Annotated Dataset for Tonal and Syllabic Analysis of the Yemba Language/Yemba_Dataset/audios/speaker_9/group_81/spkr_9_group_81_statement_1.wav': Format not recognised.\n",
      "WER entraînement : 0.7276\n",
      "WER validation   : 0.7502\n",
      "Temps écoulé : 491.97s\n",
      "\n",
      "--- Époque 10 ---\n"
     ]
    },
    {
     "name": "stderr",
     "output_type": "stream",
     "text": [
      "  6%|▋         | 21/336 [00:21<05:08,  1.02it/s]"
     ]
    },
    {
     "name": "stdout",
     "output_type": "stream",
     "text": [
      "[!] Erreur à l’index 214 : Error opening 'C:/Users/Christian/Desktop/YembaTones/YembaTones An Annotated Dataset for Tonal and Syllabic Analysis of the Yemba Language/Yemba_Dataset/audios/speaker_9/group_81/spkr_9_group_81_statement_1.wav': Format not recognised.\n"
     ]
    },
    {
     "name": "stderr",
     "output_type": "stream",
     "text": [
      "100%|██████████| 336/336 [05:45<00:00,  1.03s/it]\n"
     ]
    },
    {
     "name": "stdout",
     "output_type": "stream",
     "text": [
      "Perte entraînement : 2.0826\n",
      "Perte validation : 2.2873\n",
      "[!] Erreur à l’index 214 : Error opening 'C:/Users/Christian/Desktop/YembaTones/YembaTones An Annotated Dataset for Tonal and Syllabic Analysis of the Yemba Language/Yemba_Dataset/audios/speaker_9/group_81/spkr_9_group_81_statement_1.wav': Format not recognised.\n",
      "WER entraînement : 0.7184\n",
      "WER validation   : 0.7521\n",
      "Temps écoulé : 464.53s\n",
      "\n",
      "--- Époque 11 ---\n"
     ]
    },
    {
     "name": "stderr",
     "output_type": "stream",
     "text": [
      " 92%|█████████▏| 310/336 [05:17<00:22,  1.16it/s]"
     ]
    },
    {
     "name": "stdout",
     "output_type": "stream",
     "text": [
      "[!] Erreur à l’index 214 : Error opening 'C:/Users/Christian/Desktop/YembaTones/YembaTones An Annotated Dataset for Tonal and Syllabic Analysis of the Yemba Language/Yemba_Dataset/audios/speaker_9/group_81/spkr_9_group_81_statement_1.wav': Format not recognised.\n"
     ]
    },
    {
     "name": "stderr",
     "output_type": "stream",
     "text": [
      "100%|██████████| 336/336 [05:43<00:00,  1.02s/it]\n"
     ]
    },
    {
     "name": "stdout",
     "output_type": "stream",
     "text": [
      "Perte entraînement : 2.0507\n",
      "Perte validation : 2.2254\n",
      "[!] Erreur à l’index 214 : Error opening 'C:/Users/Christian/Desktop/YembaTones/YembaTones An Annotated Dataset for Tonal and Syllabic Analysis of the Yemba Language/Yemba_Dataset/audios/speaker_9/group_81/spkr_9_group_81_statement_1.wav': Format not recognised.\n",
      "WER entraînement : 0.7007\n",
      "WER validation   : 0.7257\n",
      "Temps écoulé : 471.26s\n",
      "✅ Nouveau meilleur modèle sauvegardé\n",
      "\n",
      "--- Époque 12 ---\n"
     ]
    },
    {
     "name": "stderr",
     "output_type": "stream",
     "text": [
      " 42%|████▏     | 141/336 [02:23<03:03,  1.06it/s]"
     ]
    },
    {
     "name": "stdout",
     "output_type": "stream",
     "text": [
      "[!] Erreur à l’index 214 : Error opening 'C:/Users/Christian/Desktop/YembaTones/YembaTones An Annotated Dataset for Tonal and Syllabic Analysis of the Yemba Language/Yemba_Dataset/audios/speaker_9/group_81/spkr_9_group_81_statement_1.wav': Format not recognised.\n"
     ]
    },
    {
     "name": "stderr",
     "output_type": "stream",
     "text": [
      "100%|██████████| 336/336 [06:04<00:00,  1.09s/it]\n"
     ]
    },
    {
     "name": "stdout",
     "output_type": "stream",
     "text": [
      "Perte entraînement : 1.9786\n",
      "Perte validation : 2.1691\n",
      "[!] Erreur à l’index 214 : Error opening 'C:/Users/Christian/Desktop/YembaTones/YembaTones An Annotated Dataset for Tonal and Syllabic Analysis of the Yemba Language/Yemba_Dataset/audios/speaker_9/group_81/spkr_9_group_81_statement_1.wav': Format not recognised.\n",
      "WER entraînement : 0.6809\n",
      "WER validation   : 0.7257\n",
      "Temps écoulé : 479.90s\n",
      "✅ Nouveau meilleur modèle sauvegardé\n",
      "\n",
      "--- Époque 13 ---\n"
     ]
    },
    {
     "name": "stderr",
     "output_type": "stream",
     "text": [
      " 68%|██████▊   | 228/336 [04:03<02:08,  1.19s/it]"
     ]
    },
    {
     "name": "stdout",
     "output_type": "stream",
     "text": [
      "[!] Erreur à l’index 214 : Error opening 'C:/Users/Christian/Desktop/YembaTones/YembaTones An Annotated Dataset for Tonal and Syllabic Analysis of the Yemba Language/Yemba_Dataset/audios/speaker_9/group_81/spkr_9_group_81_statement_1.wav': Format not recognised.\n"
     ]
    },
    {
     "name": "stderr",
     "output_type": "stream",
     "text": [
      "100%|██████████| 336/336 [06:03<00:00,  1.08s/it]\n"
     ]
    },
    {
     "name": "stdout",
     "output_type": "stream",
     "text": [
      "Perte entraînement : 1.9133\n",
      "Perte validation : 2.1578\n",
      "[!] Erreur à l’index 214 : Error opening 'C:/Users/Christian/Desktop/YembaTones/YembaTones An Annotated Dataset for Tonal and Syllabic Analysis of the Yemba Language/Yemba_Dataset/audios/speaker_9/group_81/spkr_9_group_81_statement_1.wav': Format not recognised.\n",
      "WER entraînement : 0.6732\n",
      "WER validation   : 0.7210\n",
      "Temps écoulé : 491.76s\n",
      "✅ Nouveau meilleur modèle sauvegardé\n",
      "\n",
      "--- Époque 14 ---\n"
     ]
    },
    {
     "name": "stderr",
     "output_type": "stream",
     "text": [
      " 31%|███       | 104/336 [01:41<03:02,  1.27it/s]"
     ]
    },
    {
     "name": "stdout",
     "output_type": "stream",
     "text": [
      "[!] Erreur à l’index 214 : Error opening 'C:/Users/Christian/Desktop/YembaTones/YembaTones An Annotated Dataset for Tonal and Syllabic Analysis of the Yemba Language/Yemba_Dataset/audios/speaker_9/group_81/spkr_9_group_81_statement_1.wav': Format not recognised.\n"
     ]
    },
    {
     "name": "stderr",
     "output_type": "stream",
     "text": [
      "100%|██████████| 336/336 [05:47<00:00,  1.03s/it]\n"
     ]
    },
    {
     "name": "stdout",
     "output_type": "stream",
     "text": [
      "Perte entraînement : 1.9094\n",
      "Perte validation : 2.1138\n",
      "[!] Erreur à l’index 214 : Error opening 'C:/Users/Christian/Desktop/YembaTones/YembaTones An Annotated Dataset for Tonal and Syllabic Analysis of the Yemba Language/Yemba_Dataset/audios/speaker_9/group_81/spkr_9_group_81_statement_1.wav': Format not recognised.\n",
      "WER entraînement : 0.6531\n",
      "WER validation   : 0.7144\n",
      "Temps écoulé : 473.98s\n",
      "✅ Nouveau meilleur modèle sauvegardé\n",
      "\n",
      "--- Époque 15 ---\n"
     ]
    },
    {
     "name": "stderr",
     "output_type": "stream",
     "text": [
      " 71%|███████   | 238/336 [04:17<01:21,  1.20it/s]"
     ]
    },
    {
     "name": "stdout",
     "output_type": "stream",
     "text": [
      "[!] Erreur à l’index 214 : Error opening 'C:/Users/Christian/Desktop/YembaTones/YembaTones An Annotated Dataset for Tonal and Syllabic Analysis of the Yemba Language/Yemba_Dataset/audios/speaker_9/group_81/spkr_9_group_81_statement_1.wav': Format not recognised.\n"
     ]
    },
    {
     "name": "stderr",
     "output_type": "stream",
     "text": [
      "100%|██████████| 336/336 [05:59<00:00,  1.07s/it]\n"
     ]
    },
    {
     "name": "stdout",
     "output_type": "stream",
     "text": [
      "Perte entraînement : 1.8620\n",
      "Perte validation : 2.0937\n",
      "[!] Erreur à l’index 214 : Error opening 'C:/Users/Christian/Desktop/YembaTones/YembaTones An Annotated Dataset for Tonal and Syllabic Analysis of the Yemba Language/Yemba_Dataset/audios/speaker_9/group_81/spkr_9_group_81_statement_1.wav': Format not recognised.\n",
      "WER entraînement : 0.6695\n",
      "WER validation   : 0.7154\n",
      "Temps écoulé : 483.33s\n",
      "✅ Nouveau meilleur modèle sauvegardé\n",
      "\n",
      "--- Époque 16 ---\n"
     ]
    },
    {
     "name": "stderr",
     "output_type": "stream",
     "text": [
      " 29%|██▊       | 96/336 [01:45<03:35,  1.12it/s]"
     ]
    },
    {
     "name": "stdout",
     "output_type": "stream",
     "text": [
      "[!] Erreur à l’index 214 : Error opening 'C:/Users/Christian/Desktop/YembaTones/YembaTones An Annotated Dataset for Tonal and Syllabic Analysis of the Yemba Language/Yemba_Dataset/audios/speaker_9/group_81/spkr_9_group_81_statement_1.wav': Format not recognised.\n"
     ]
    },
    {
     "name": "stderr",
     "output_type": "stream",
     "text": [
      "100%|██████████| 336/336 [06:05<00:00,  1.09s/it]\n"
     ]
    },
    {
     "name": "stdout",
     "output_type": "stream",
     "text": [
      "Perte entraînement : 1.7831\n",
      "Perte validation : 2.0553\n",
      "[!] Erreur à l’index 214 : Error opening 'C:/Users/Christian/Desktop/YembaTones/YembaTones An Annotated Dataset for Tonal and Syllabic Analysis of the Yemba Language/Yemba_Dataset/audios/speaker_9/group_81/spkr_9_group_81_statement_1.wav': Format not recognised.\n",
      "WER entraînement : 0.6294\n",
      "WER validation   : 0.7116\n",
      "Temps écoulé : 482.72s\n",
      "✅ Nouveau meilleur modèle sauvegardé\n",
      "\n",
      "--- Époque 17 ---\n"
     ]
    },
    {
     "name": "stderr",
     "output_type": "stream",
     "text": [
      " 37%|███▋      | 124/336 [02:06<02:53,  1.22it/s]"
     ]
    },
    {
     "name": "stdout",
     "output_type": "stream",
     "text": [
      "[!] Erreur à l’index 214 : Error opening 'C:/Users/Christian/Desktop/YembaTones/YembaTones An Annotated Dataset for Tonal and Syllabic Analysis of the Yemba Language/Yemba_Dataset/audios/speaker_9/group_81/spkr_9_group_81_statement_1.wav': Format not recognised.\n"
     ]
    },
    {
     "name": "stderr",
     "output_type": "stream",
     "text": [
      "100%|██████████| 336/336 [05:57<00:00,  1.06s/it]\n"
     ]
    },
    {
     "name": "stdout",
     "output_type": "stream",
     "text": [
      "Perte entraînement : 1.7365\n",
      "Perte validation : 2.0773\n",
      "[!] Erreur à l’index 214 : Error opening 'C:/Users/Christian/Desktop/YembaTones/YembaTones An Annotated Dataset for Tonal and Syllabic Analysis of the Yemba Language/Yemba_Dataset/audios/speaker_9/group_81/spkr_9_group_81_statement_1.wav': Format not recognised.\n",
      "WER entraînement : 0.6314\n",
      "WER validation   : 0.7041\n",
      "Temps écoulé : 484.22s\n",
      "\n",
      "--- Époque 18 ---\n"
     ]
    },
    {
     "name": "stderr",
     "output_type": "stream",
     "text": [
      " 79%|███████▊  | 264/336 [04:23<01:12,  1.01s/it]"
     ]
    },
    {
     "name": "stdout",
     "output_type": "stream",
     "text": [
      "[!] Erreur à l’index 214 : Error opening 'C:/Users/Christian/Desktop/YembaTones/YembaTones An Annotated Dataset for Tonal and Syllabic Analysis of the Yemba Language/Yemba_Dataset/audios/speaker_9/group_81/spkr_9_group_81_statement_1.wav': Format not recognised.\n"
     ]
    },
    {
     "name": "stderr",
     "output_type": "stream",
     "text": [
      "100%|██████████| 336/336 [05:45<00:00,  1.03s/it]\n"
     ]
    },
    {
     "name": "stdout",
     "output_type": "stream",
     "text": [
      "Perte entraînement : 1.6915\n",
      "Perte validation : 1.9745\n",
      "[!] Erreur à l’index 214 : Error opening 'C:/Users/Christian/Desktop/YembaTones/YembaTones An Annotated Dataset for Tonal and Syllabic Analysis of the Yemba Language/Yemba_Dataset/audios/speaker_9/group_81/spkr_9_group_81_statement_1.wav': Format not recognised.\n",
      "WER entraînement : 0.6184\n",
      "WER validation   : 0.6956\n",
      "Temps écoulé : 472.36s\n",
      "✅ Nouveau meilleur modèle sauvegardé\n",
      "\n",
      "--- Époque 19 ---\n"
     ]
    },
    {
     "name": "stderr",
     "output_type": "stream",
     "text": [
      " 32%|███▏      | 109/336 [02:07<03:04,  1.23it/s]"
     ]
    },
    {
     "name": "stdout",
     "output_type": "stream",
     "text": [
      "[!] Erreur à l’index 214 : Error opening 'C:/Users/Christian/Desktop/YembaTones/YembaTones An Annotated Dataset for Tonal and Syllabic Analysis of the Yemba Language/Yemba_Dataset/audios/speaker_9/group_81/spkr_9_group_81_statement_1.wav': Format not recognised.\n"
     ]
    },
    {
     "name": "stderr",
     "output_type": "stream",
     "text": [
      "100%|██████████| 336/336 [05:57<00:00,  1.06s/it]\n"
     ]
    },
    {
     "name": "stdout",
     "output_type": "stream",
     "text": [
      "Perte entraînement : 1.6351\n",
      "Perte validation : 1.8932\n",
      "[!] Erreur à l’index 214 : Error opening 'C:/Users/Christian/Desktop/YembaTones/YembaTones An Annotated Dataset for Tonal and Syllabic Analysis of the Yemba Language/Yemba_Dataset/audios/speaker_9/group_81/spkr_9_group_81_statement_1.wav': Format not recognised.\n",
      "WER entraînement : 0.5954\n",
      "WER validation   : 0.6909\n",
      "Temps écoulé : 477.56s\n",
      "✅ Nouveau meilleur modèle sauvegardé\n",
      "\n",
      "--- Époque 20 ---\n"
     ]
    },
    {
     "name": "stderr",
     "output_type": "stream",
     "text": [
      " 43%|████▎     | 146/336 [02:40<04:26,  1.40s/it]"
     ]
    },
    {
     "name": "stdout",
     "output_type": "stream",
     "text": [
      "[!] Erreur à l’index 214 : Error opening 'C:/Users/Christian/Desktop/YembaTones/YembaTones An Annotated Dataset for Tonal and Syllabic Analysis of the Yemba Language/Yemba_Dataset/audios/speaker_9/group_81/spkr_9_group_81_statement_1.wav': Format not recognised.\n"
     ]
    },
    {
     "name": "stderr",
     "output_type": "stream",
     "text": [
      "100%|██████████| 336/336 [06:01<00:00,  1.08s/it]\n"
     ]
    },
    {
     "name": "stdout",
     "output_type": "stream",
     "text": [
      "Perte entraînement : 1.5581\n",
      "Perte validation : 1.8885\n",
      "[!] Erreur à l’index 214 : Error opening 'C:/Users/Christian/Desktop/YembaTones/YembaTones An Annotated Dataset for Tonal and Syllabic Analysis of the Yemba Language/Yemba_Dataset/audios/speaker_9/group_81/spkr_9_group_81_statement_1.wav': Format not recognised.\n",
      "WER entraînement : 0.5941\n",
      "WER validation   : 0.6843\n",
      "Temps écoulé : 483.84s\n",
      "✅ Nouveau meilleur modèle sauvegardé\n",
      "\n",
      "--- Époque 21 ---\n"
     ]
    },
    {
     "name": "stderr",
     "output_type": "stream",
     "text": [
      " 44%|████▍     | 147/336 [02:32<03:22,  1.07s/it]"
     ]
    },
    {
     "name": "stdout",
     "output_type": "stream",
     "text": [
      "[!] Erreur à l’index 214 : Error opening 'C:/Users/Christian/Desktop/YembaTones/YembaTones An Annotated Dataset for Tonal and Syllabic Analysis of the Yemba Language/Yemba_Dataset/audios/speaker_9/group_81/spkr_9_group_81_statement_1.wav': Format not recognised.\n"
     ]
    },
    {
     "name": "stderr",
     "output_type": "stream",
     "text": [
      "100%|██████████| 336/336 [05:57<00:00,  1.06s/it]\n"
     ]
    },
    {
     "name": "stdout",
     "output_type": "stream",
     "text": [
      "Perte entraînement : 1.5392\n",
      "Perte validation : 1.8457\n",
      "[!] Erreur à l’index 214 : Error opening 'C:/Users/Christian/Desktop/YembaTones/YembaTones An Annotated Dataset for Tonal and Syllabic Analysis of the Yemba Language/Yemba_Dataset/audios/speaker_9/group_81/spkr_9_group_81_statement_1.wav': Format not recognised.\n",
      "WER entraînement : 0.5716\n",
      "WER validation   : 0.6701\n",
      "Temps écoulé : 485.18s\n",
      "✅ Nouveau meilleur modèle sauvegardé\n",
      "\n",
      "--- Époque 22 ---\n"
     ]
    },
    {
     "name": "stderr",
     "output_type": "stream",
     "text": [
      " 53%|█████▎    | 179/336 [03:06<02:15,  1.15it/s]"
     ]
    },
    {
     "name": "stdout",
     "output_type": "stream",
     "text": [
      "[!] Erreur à l’index 214 : Error opening 'C:/Users/Christian/Desktop/YembaTones/YembaTones An Annotated Dataset for Tonal and Syllabic Analysis of the Yemba Language/Yemba_Dataset/audios/speaker_9/group_81/spkr_9_group_81_statement_1.wav': Format not recognised.\n"
     ]
    },
    {
     "name": "stderr",
     "output_type": "stream",
     "text": [
      "100%|██████████| 336/336 [05:48<00:00,  1.04s/it]\n"
     ]
    },
    {
     "name": "stdout",
     "output_type": "stream",
     "text": [
      "Perte entraînement : 1.4860\n",
      "Perte validation : 1.8843\n",
      "[!] Erreur à l’index 214 : Error opening 'C:/Users/Christian/Desktop/YembaTones/YembaTones An Annotated Dataset for Tonal and Syllabic Analysis of the Yemba Language/Yemba_Dataset/audios/speaker_9/group_81/spkr_9_group_81_statement_1.wav': Format not recognised.\n",
      "WER entraînement : 0.5841\n",
      "WER validation   : 0.6880\n",
      "Temps écoulé : 477.70s\n",
      "\n",
      "--- Époque 23 ---\n"
     ]
    },
    {
     "name": "stderr",
     "output_type": "stream",
     "text": [
      " 10%|█         | 35/336 [00:39<07:11,  1.43s/it]"
     ]
    },
    {
     "name": "stdout",
     "output_type": "stream",
     "text": [
      "[!] Erreur à l’index 214 : Error opening 'C:/Users/Christian/Desktop/YembaTones/YembaTones An Annotated Dataset for Tonal and Syllabic Analysis of the Yemba Language/Yemba_Dataset/audios/speaker_9/group_81/spkr_9_group_81_statement_1.wav': Format not recognised.\n"
     ]
    },
    {
     "name": "stderr",
     "output_type": "stream",
     "text": [
      "100%|██████████| 336/336 [06:00<00:00,  1.07s/it]\n"
     ]
    },
    {
     "name": "stdout",
     "output_type": "stream",
     "text": [
      "Perte entraînement : 1.4441\n",
      "Perte validation : 1.8387\n",
      "[!] Erreur à l’index 214 : Error opening 'C:/Users/Christian/Desktop/YembaTones/YembaTones An Annotated Dataset for Tonal and Syllabic Analysis of the Yemba Language/Yemba_Dataset/audios/speaker_9/group_81/spkr_9_group_81_statement_1.wav': Format not recognised.\n",
      "WER entraînement : 0.5856\n",
      "WER validation   : 0.6805\n",
      "Temps écoulé : 473.29s\n",
      "✅ Nouveau meilleur modèle sauvegardé\n",
      "\n",
      "--- Époque 24 ---\n"
     ]
    },
    {
     "name": "stderr",
     "output_type": "stream",
     "text": [
      " 29%|██▉       | 97/336 [01:43<04:17,  1.08s/it]"
     ]
    },
    {
     "name": "stdout",
     "output_type": "stream",
     "text": [
      "[!] Erreur à l’index 214 : Error opening 'C:/Users/Christian/Desktop/YembaTones/YembaTones An Annotated Dataset for Tonal and Syllabic Analysis of the Yemba Language/Yemba_Dataset/audios/speaker_9/group_81/spkr_9_group_81_statement_1.wav': Format not recognised.\n"
     ]
    },
    {
     "name": "stderr",
     "output_type": "stream",
     "text": [
      "100%|██████████| 336/336 [06:04<00:00,  1.09s/it]\n"
     ]
    },
    {
     "name": "stdout",
     "output_type": "stream",
     "text": [
      "Perte entraînement : 1.4102\n",
      "Perte validation : 1.8569\n",
      "[!] Erreur à l’index 214 : Error opening 'C:/Users/Christian/Desktop/YembaTones/YembaTones An Annotated Dataset for Tonal and Syllabic Analysis of the Yemba Language/Yemba_Dataset/audios/speaker_9/group_81/spkr_9_group_81_statement_1.wav': Format not recognised.\n",
      "WER entraînement : 0.5529\n",
      "WER validation   : 0.6786\n",
      "Temps écoulé : 491.99s\n",
      "\n",
      "--- Époque 25 ---\n"
     ]
    },
    {
     "name": "stderr",
     "output_type": "stream",
     "text": [
      "  3%|▎         | 10/336 [00:08<04:32,  1.20it/s]"
     ]
    },
    {
     "name": "stdout",
     "output_type": "stream",
     "text": [
      "[!] Erreur à l’index 214 : Error opening 'C:/Users/Christian/Desktop/YembaTones/YembaTones An Annotated Dataset for Tonal and Syllabic Analysis of the Yemba Language/Yemba_Dataset/audios/speaker_9/group_81/spkr_9_group_81_statement_1.wav': Format not recognised.\n"
     ]
    },
    {
     "name": "stderr",
     "output_type": "stream",
     "text": [
      "100%|██████████| 336/336 [05:48<00:00,  1.04s/it]\n"
     ]
    },
    {
     "name": "stdout",
     "output_type": "stream",
     "text": [
      "Perte entraînement : 1.3848\n",
      "Perte validation : 1.8068\n",
      "[!] Erreur à l’index 214 : Error opening 'C:/Users/Christian/Desktop/YembaTones/YembaTones An Annotated Dataset for Tonal and Syllabic Analysis of the Yemba Language/Yemba_Dataset/audios/speaker_9/group_81/spkr_9_group_81_statement_1.wav': Format not recognised.\n",
      "WER entraînement : 0.5471\n",
      "WER validation   : 0.6767\n",
      "Temps écoulé : 474.21s\n",
      "✅ Nouveau meilleur modèle sauvegardé\n",
      "\n",
      "--- Époque 26 ---\n"
     ]
    },
    {
     "name": "stderr",
     "output_type": "stream",
     "text": [
      "  3%|▎         | 10/336 [00:10<05:00,  1.08it/s]"
     ]
    },
    {
     "name": "stdout",
     "output_type": "stream",
     "text": [
      "[!] Erreur à l’index 214 : Error opening 'C:/Users/Christian/Desktop/YembaTones/YembaTones An Annotated Dataset for Tonal and Syllabic Analysis of the Yemba Language/Yemba_Dataset/audios/speaker_9/group_81/spkr_9_group_81_statement_1.wav': Format not recognised.\n"
     ]
    },
    {
     "name": "stderr",
     "output_type": "stream",
     "text": [
      "100%|██████████| 336/336 [05:56<00:00,  1.06s/it]\n"
     ]
    },
    {
     "name": "stdout",
     "output_type": "stream",
     "text": [
      "Perte entraînement : 1.3395\n",
      "Perte validation : 1.8127\n",
      "[!] Erreur à l’index 214 : Error opening 'C:/Users/Christian/Desktop/YembaTones/YembaTones An Annotated Dataset for Tonal and Syllabic Analysis of the Yemba Language/Yemba_Dataset/audios/speaker_9/group_81/spkr_9_group_81_statement_1.wav': Format not recognised.\n",
      "WER entraînement : 0.5354\n",
      "WER validation   : 0.6711\n",
      "Temps écoulé : 482.43s\n",
      "\n",
      "--- Époque 27 ---\n"
     ]
    },
    {
     "name": "stderr",
     "output_type": "stream",
     "text": [
      " 14%|█▍        | 47/336 [00:48<06:44,  1.40s/it]"
     ]
    },
    {
     "name": "stdout",
     "output_type": "stream",
     "text": [
      "[!] Erreur à l’index 214 : Error opening 'C:/Users/Christian/Desktop/YembaTones/YembaTones An Annotated Dataset for Tonal and Syllabic Analysis of the Yemba Language/Yemba_Dataset/audios/speaker_9/group_81/spkr_9_group_81_statement_1.wav': Format not recognised.\n"
     ]
    },
    {
     "name": "stderr",
     "output_type": "stream",
     "text": [
      "100%|██████████| 336/336 [06:19<00:00,  1.13s/it]\n"
     ]
    },
    {
     "name": "stdout",
     "output_type": "stream",
     "text": [
      "Perte entraînement : 1.3166\n",
      "Perte validation : 1.7817\n",
      "[!] Erreur à l’index 214 : Error opening 'C:/Users/Christian/Desktop/YembaTones/YembaTones An Annotated Dataset for Tonal and Syllabic Analysis of the Yemba Language/Yemba_Dataset/audios/speaker_9/group_81/spkr_9_group_81_statement_1.wav': Format not recognised.\n",
      "WER entraînement : 0.5241\n",
      "WER validation   : 0.6730\n",
      "Temps écoulé : 516.54s\n",
      "✅ Nouveau meilleur modèle sauvegardé\n",
      "\n",
      "--- Époque 28 ---\n"
     ]
    },
    {
     "name": "stderr",
     "output_type": "stream",
     "text": [
      " 57%|█████▋    | 190/336 [04:16<03:17,  1.35s/it]\n"
     ]
    },
    {
     "ename": "RuntimeError",
     "evalue": "[enforce fail at alloc_cpu.cpp:116] data. DefaultCPUAllocator: not enough memory: you tried to allocate 1114112 bytes.",
     "output_type": "error",
     "traceback": [
      "\u001b[1;31m---------------------------------------------------------------------------\u001b[0m",
      "\u001b[1;31mRuntimeError\u001b[0m                              Traceback (most recent call last)",
      "Cell \u001b[1;32mIn[76], line 24\u001b[0m\n\u001b[0;32m     21\u001b[0m \u001b[38;5;28;01mfor\u001b[39;00m mel, target, input_lens, target_lens \u001b[38;5;129;01min\u001b[39;00m tqdm(train_loader):\n\u001b[0;32m     22\u001b[0m     mel, target \u001b[38;5;241m=\u001b[39m mel\u001b[38;5;241m.\u001b[39mto(device), target\u001b[38;5;241m.\u001b[39mto(device)\n\u001b[1;32m---> 24\u001b[0m     output \u001b[38;5;241m=\u001b[39m model(mel, max_len\u001b[38;5;241m=\u001b[39mtarget\u001b[38;5;241m.\u001b[39msize(\u001b[38;5;241m1\u001b[39m))  \u001b[38;5;66;03m# [B, L, vocab_size]\u001b[39;00m\n\u001b[0;32m     25\u001b[0m     output \u001b[38;5;241m=\u001b[39m output\u001b[38;5;241m.\u001b[39mview(\u001b[38;5;241m-\u001b[39m\u001b[38;5;241m1\u001b[39m, output\u001b[38;5;241m.\u001b[39msize(\u001b[38;5;241m-\u001b[39m\u001b[38;5;241m1\u001b[39m))    \u001b[38;5;66;03m# [B*L, vocab_size]\u001b[39;00m\n\u001b[0;32m     26\u001b[0m     target \u001b[38;5;241m=\u001b[39m target\u001b[38;5;241m.\u001b[39mview(\u001b[38;5;241m-\u001b[39m\u001b[38;5;241m1\u001b[39m)                     \u001b[38;5;66;03m# [B*L]\u001b[39;00m\n",
      "File \u001b[1;32m~\\anaconda3\\Lib\\site-packages\\torch\\nn\\modules\\module.py:1751\u001b[0m, in \u001b[0;36mModule._wrapped_call_impl\u001b[1;34m(self, *args, **kwargs)\u001b[0m\n\u001b[0;32m   1749\u001b[0m     \u001b[38;5;28;01mreturn\u001b[39;00m \u001b[38;5;28mself\u001b[39m\u001b[38;5;241m.\u001b[39m_compiled_call_impl(\u001b[38;5;241m*\u001b[39margs, \u001b[38;5;241m*\u001b[39m\u001b[38;5;241m*\u001b[39mkwargs)  \u001b[38;5;66;03m# type: ignore[misc]\u001b[39;00m\n\u001b[0;32m   1750\u001b[0m \u001b[38;5;28;01melse\u001b[39;00m:\n\u001b[1;32m-> 1751\u001b[0m     \u001b[38;5;28;01mreturn\u001b[39;00m \u001b[38;5;28mself\u001b[39m\u001b[38;5;241m.\u001b[39m_call_impl(\u001b[38;5;241m*\u001b[39margs, \u001b[38;5;241m*\u001b[39m\u001b[38;5;241m*\u001b[39mkwargs)\n",
      "File \u001b[1;32m~\\anaconda3\\Lib\\site-packages\\torch\\nn\\modules\\module.py:1762\u001b[0m, in \u001b[0;36mModule._call_impl\u001b[1;34m(self, *args, **kwargs)\u001b[0m\n\u001b[0;32m   1757\u001b[0m \u001b[38;5;66;03m# If we don't have any hooks, we want to skip the rest of the logic in\u001b[39;00m\n\u001b[0;32m   1758\u001b[0m \u001b[38;5;66;03m# this function, and just call forward.\u001b[39;00m\n\u001b[0;32m   1759\u001b[0m \u001b[38;5;28;01mif\u001b[39;00m \u001b[38;5;129;01mnot\u001b[39;00m (\u001b[38;5;28mself\u001b[39m\u001b[38;5;241m.\u001b[39m_backward_hooks \u001b[38;5;129;01mor\u001b[39;00m \u001b[38;5;28mself\u001b[39m\u001b[38;5;241m.\u001b[39m_backward_pre_hooks \u001b[38;5;129;01mor\u001b[39;00m \u001b[38;5;28mself\u001b[39m\u001b[38;5;241m.\u001b[39m_forward_hooks \u001b[38;5;129;01mor\u001b[39;00m \u001b[38;5;28mself\u001b[39m\u001b[38;5;241m.\u001b[39m_forward_pre_hooks\n\u001b[0;32m   1760\u001b[0m         \u001b[38;5;129;01mor\u001b[39;00m _global_backward_pre_hooks \u001b[38;5;129;01mor\u001b[39;00m _global_backward_hooks\n\u001b[0;32m   1761\u001b[0m         \u001b[38;5;129;01mor\u001b[39;00m _global_forward_hooks \u001b[38;5;129;01mor\u001b[39;00m _global_forward_pre_hooks):\n\u001b[1;32m-> 1762\u001b[0m     \u001b[38;5;28;01mreturn\u001b[39;00m forward_call(\u001b[38;5;241m*\u001b[39margs, \u001b[38;5;241m*\u001b[39m\u001b[38;5;241m*\u001b[39mkwargs)\n\u001b[0;32m   1764\u001b[0m result \u001b[38;5;241m=\u001b[39m \u001b[38;5;28;01mNone\u001b[39;00m\n\u001b[0;32m   1765\u001b[0m called_always_called_hooks \u001b[38;5;241m=\u001b[39m \u001b[38;5;28mset\u001b[39m()\n",
      "File \u001b[1;32m~\\Desktop\\YembaTones\\model.py:151\u001b[0m, in \u001b[0;36mforward\u001b[1;34m(self, x, max_len)\u001b[0m\n\u001b[0;32m    147\u001b[0m     self.attention = Attention(hidden_dim)\n\u001b[0;32m    148\u001b[0m     self.decoder = GRUDecoder(hidden_dim, vocab_size, decoder_layers)\n\u001b[0;32m    150\u001b[0m def forward(self, x, max_len=100):\n\u001b[1;32m--> 151\u001b[0m     # x : [B, T, input_dim]\n\u001b[0;32m    152\u001b[0m     encoder_outputs, encoder_hidden = self.encoder(x)  # encoder_hidden: [2*L, B, H]\n\u001b[0;32m    153\u001b[0m     batch_size = x.size(0)\n",
      "File \u001b[1;32m~\\anaconda3\\Lib\\site-packages\\torch\\nn\\modules\\module.py:1751\u001b[0m, in \u001b[0;36mModule._wrapped_call_impl\u001b[1;34m(self, *args, **kwargs)\u001b[0m\n\u001b[0;32m   1749\u001b[0m     \u001b[38;5;28;01mreturn\u001b[39;00m \u001b[38;5;28mself\u001b[39m\u001b[38;5;241m.\u001b[39m_compiled_call_impl(\u001b[38;5;241m*\u001b[39margs, \u001b[38;5;241m*\u001b[39m\u001b[38;5;241m*\u001b[39mkwargs)  \u001b[38;5;66;03m# type: ignore[misc]\u001b[39;00m\n\u001b[0;32m   1750\u001b[0m \u001b[38;5;28;01melse\u001b[39;00m:\n\u001b[1;32m-> 1751\u001b[0m     \u001b[38;5;28;01mreturn\u001b[39;00m \u001b[38;5;28mself\u001b[39m\u001b[38;5;241m.\u001b[39m_call_impl(\u001b[38;5;241m*\u001b[39margs, \u001b[38;5;241m*\u001b[39m\u001b[38;5;241m*\u001b[39mkwargs)\n",
      "File \u001b[1;32m~\\anaconda3\\Lib\\site-packages\\torch\\nn\\modules\\module.py:1762\u001b[0m, in \u001b[0;36mModule._call_impl\u001b[1;34m(self, *args, **kwargs)\u001b[0m\n\u001b[0;32m   1757\u001b[0m \u001b[38;5;66;03m# If we don't have any hooks, we want to skip the rest of the logic in\u001b[39;00m\n\u001b[0;32m   1758\u001b[0m \u001b[38;5;66;03m# this function, and just call forward.\u001b[39;00m\n\u001b[0;32m   1759\u001b[0m \u001b[38;5;28;01mif\u001b[39;00m \u001b[38;5;129;01mnot\u001b[39;00m (\u001b[38;5;28mself\u001b[39m\u001b[38;5;241m.\u001b[39m_backward_hooks \u001b[38;5;129;01mor\u001b[39;00m \u001b[38;5;28mself\u001b[39m\u001b[38;5;241m.\u001b[39m_backward_pre_hooks \u001b[38;5;129;01mor\u001b[39;00m \u001b[38;5;28mself\u001b[39m\u001b[38;5;241m.\u001b[39m_forward_hooks \u001b[38;5;129;01mor\u001b[39;00m \u001b[38;5;28mself\u001b[39m\u001b[38;5;241m.\u001b[39m_forward_pre_hooks\n\u001b[0;32m   1760\u001b[0m         \u001b[38;5;129;01mor\u001b[39;00m _global_backward_pre_hooks \u001b[38;5;129;01mor\u001b[39;00m _global_backward_hooks\n\u001b[0;32m   1761\u001b[0m         \u001b[38;5;129;01mor\u001b[39;00m _global_forward_hooks \u001b[38;5;129;01mor\u001b[39;00m _global_forward_pre_hooks):\n\u001b[1;32m-> 1762\u001b[0m     \u001b[38;5;28;01mreturn\u001b[39;00m forward_call(\u001b[38;5;241m*\u001b[39margs, \u001b[38;5;241m*\u001b[39m\u001b[38;5;241m*\u001b[39mkwargs)\n\u001b[0;32m   1764\u001b[0m result \u001b[38;5;241m=\u001b[39m \u001b[38;5;28;01mNone\u001b[39;00m\n\u001b[0;32m   1765\u001b[0m called_always_called_hooks \u001b[38;5;241m=\u001b[39m \u001b[38;5;28mset\u001b[39m()\n",
      "File \u001b[1;32m~\\Desktop\\YembaTones\\model.py:102\u001b[0m, in \u001b[0;36mGRUEncoder.forward\u001b[1;34m(self, x)\u001b[0m\n\u001b[0;32m    101\u001b[0m \u001b[38;5;28;01mdef\u001b[39;00m \u001b[38;5;21mforward\u001b[39m(\u001b[38;5;28mself\u001b[39m, x):\n\u001b[1;32m--> 102\u001b[0m     outputs, hidden \u001b[38;5;241m=\u001b[39m \u001b[38;5;28mself\u001b[39m\u001b[38;5;241m.\u001b[39mgru(x)  \u001b[38;5;66;03m# outputs: [B, T, 2*H], hidden: [2*L, B, H]\u001b[39;00m\n\u001b[0;32m    103\u001b[0m     \u001b[38;5;28;01mreturn\u001b[39;00m outputs, hidden\n",
      "File \u001b[1;32m~\\anaconda3\\Lib\\site-packages\\torch\\nn\\modules\\module.py:1751\u001b[0m, in \u001b[0;36mModule._wrapped_call_impl\u001b[1;34m(self, *args, **kwargs)\u001b[0m\n\u001b[0;32m   1749\u001b[0m     \u001b[38;5;28;01mreturn\u001b[39;00m \u001b[38;5;28mself\u001b[39m\u001b[38;5;241m.\u001b[39m_compiled_call_impl(\u001b[38;5;241m*\u001b[39margs, \u001b[38;5;241m*\u001b[39m\u001b[38;5;241m*\u001b[39mkwargs)  \u001b[38;5;66;03m# type: ignore[misc]\u001b[39;00m\n\u001b[0;32m   1750\u001b[0m \u001b[38;5;28;01melse\u001b[39;00m:\n\u001b[1;32m-> 1751\u001b[0m     \u001b[38;5;28;01mreturn\u001b[39;00m \u001b[38;5;28mself\u001b[39m\u001b[38;5;241m.\u001b[39m_call_impl(\u001b[38;5;241m*\u001b[39margs, \u001b[38;5;241m*\u001b[39m\u001b[38;5;241m*\u001b[39mkwargs)\n",
      "File \u001b[1;32m~\\anaconda3\\Lib\\site-packages\\torch\\nn\\modules\\module.py:1762\u001b[0m, in \u001b[0;36mModule._call_impl\u001b[1;34m(self, *args, **kwargs)\u001b[0m\n\u001b[0;32m   1757\u001b[0m \u001b[38;5;66;03m# If we don't have any hooks, we want to skip the rest of the logic in\u001b[39;00m\n\u001b[0;32m   1758\u001b[0m \u001b[38;5;66;03m# this function, and just call forward.\u001b[39;00m\n\u001b[0;32m   1759\u001b[0m \u001b[38;5;28;01mif\u001b[39;00m \u001b[38;5;129;01mnot\u001b[39;00m (\u001b[38;5;28mself\u001b[39m\u001b[38;5;241m.\u001b[39m_backward_hooks \u001b[38;5;129;01mor\u001b[39;00m \u001b[38;5;28mself\u001b[39m\u001b[38;5;241m.\u001b[39m_backward_pre_hooks \u001b[38;5;129;01mor\u001b[39;00m \u001b[38;5;28mself\u001b[39m\u001b[38;5;241m.\u001b[39m_forward_hooks \u001b[38;5;129;01mor\u001b[39;00m \u001b[38;5;28mself\u001b[39m\u001b[38;5;241m.\u001b[39m_forward_pre_hooks\n\u001b[0;32m   1760\u001b[0m         \u001b[38;5;129;01mor\u001b[39;00m _global_backward_pre_hooks \u001b[38;5;129;01mor\u001b[39;00m _global_backward_hooks\n\u001b[0;32m   1761\u001b[0m         \u001b[38;5;129;01mor\u001b[39;00m _global_forward_hooks \u001b[38;5;129;01mor\u001b[39;00m _global_forward_pre_hooks):\n\u001b[1;32m-> 1762\u001b[0m     \u001b[38;5;28;01mreturn\u001b[39;00m forward_call(\u001b[38;5;241m*\u001b[39margs, \u001b[38;5;241m*\u001b[39m\u001b[38;5;241m*\u001b[39mkwargs)\n\u001b[0;32m   1764\u001b[0m result \u001b[38;5;241m=\u001b[39m \u001b[38;5;28;01mNone\u001b[39;00m\n\u001b[0;32m   1765\u001b[0m called_always_called_hooks \u001b[38;5;241m=\u001b[39m \u001b[38;5;28mset\u001b[39m()\n",
      "File \u001b[1;32m~\\anaconda3\\Lib\\site-packages\\torch\\nn\\modules\\rnn.py:1393\u001b[0m, in \u001b[0;36mGRU.forward\u001b[1;34m(self, input, hx)\u001b[0m\n\u001b[0;32m   1391\u001b[0m \u001b[38;5;28mself\u001b[39m\u001b[38;5;241m.\u001b[39mcheck_forward_args(\u001b[38;5;28minput\u001b[39m, hx, batch_sizes)\n\u001b[0;32m   1392\u001b[0m \u001b[38;5;28;01mif\u001b[39;00m batch_sizes \u001b[38;5;129;01mis\u001b[39;00m \u001b[38;5;28;01mNone\u001b[39;00m:\n\u001b[1;32m-> 1393\u001b[0m     result \u001b[38;5;241m=\u001b[39m _VF\u001b[38;5;241m.\u001b[39mgru(\n\u001b[0;32m   1394\u001b[0m         \u001b[38;5;28minput\u001b[39m,\n\u001b[0;32m   1395\u001b[0m         hx,\n\u001b[0;32m   1396\u001b[0m         \u001b[38;5;28mself\u001b[39m\u001b[38;5;241m.\u001b[39m_flat_weights,  \u001b[38;5;66;03m# type: ignore[arg-type]\u001b[39;00m\n\u001b[0;32m   1397\u001b[0m         \u001b[38;5;28mself\u001b[39m\u001b[38;5;241m.\u001b[39mbias,\n\u001b[0;32m   1398\u001b[0m         \u001b[38;5;28mself\u001b[39m\u001b[38;5;241m.\u001b[39mnum_layers,\n\u001b[0;32m   1399\u001b[0m         \u001b[38;5;28mself\u001b[39m\u001b[38;5;241m.\u001b[39mdropout,\n\u001b[0;32m   1400\u001b[0m         \u001b[38;5;28mself\u001b[39m\u001b[38;5;241m.\u001b[39mtraining,\n\u001b[0;32m   1401\u001b[0m         \u001b[38;5;28mself\u001b[39m\u001b[38;5;241m.\u001b[39mbidirectional,\n\u001b[0;32m   1402\u001b[0m         \u001b[38;5;28mself\u001b[39m\u001b[38;5;241m.\u001b[39mbatch_first,\n\u001b[0;32m   1403\u001b[0m     )\n\u001b[0;32m   1404\u001b[0m \u001b[38;5;28;01melse\u001b[39;00m:\n\u001b[0;32m   1405\u001b[0m     result \u001b[38;5;241m=\u001b[39m _VF\u001b[38;5;241m.\u001b[39mgru(\n\u001b[0;32m   1406\u001b[0m         \u001b[38;5;28minput\u001b[39m,\n\u001b[0;32m   1407\u001b[0m         batch_sizes,\n\u001b[1;32m   (...)\u001b[0m\n\u001b[0;32m   1414\u001b[0m         \u001b[38;5;28mself\u001b[39m\u001b[38;5;241m.\u001b[39mbidirectional,\n\u001b[0;32m   1415\u001b[0m     )\n",
      "\u001b[1;31mRuntimeError\u001b[0m: [enforce fail at alloc_cpu.cpp:116] data. DefaultCPUAllocator: not enough memory: you tried to allocate 1114112 bytes."
     ]
    }
   ],
   "source": [
    "import jiwer\n",
    "import time\n",
    "\n",
    "PAD_TOKEN = \"<pad>\"\n",
    "PAD_IDX = vocab.get(PAD_TOKEN, 0)\n",
    "\n",
    "criterion = nn.CrossEntropyLoss(ignore_index=PAD_IDX)\n",
    "best_val_loss = float('inf')\n",
    "patience = 3\n",
    "patience_counter = 0\n",
    "num_epochs = 30\n",
    "train_losses, val_losses, wer_train, wer_val = [], [], [], []\n",
    "\n",
    "for epoch in range(num_epochs):\n",
    "    print(f\"\\n--- Époque {epoch + 1} ---\")\n",
    "    start_time = time.time()\n",
    "\n",
    "    # === TRAIN ===\n",
    "    model.train()\n",
    "    total_loss = 0\n",
    "    for mel, target, input_lens, target_lens in tqdm(train_loader):\n",
    "        mel, target = mel.to(device), target.to(device)\n",
    "\n",
    "        output = model(mel, max_len=target.size(1))  # [B, L, vocab_size]\n",
    "        output = output.view(-1, output.size(-1))    # [B*L, vocab_size]\n",
    "        target = target.view(-1)                     # [B*L]\n",
    "\n",
    "        loss = criterion(output, target)\n",
    "\n",
    "        optimizer.zero_grad()\n",
    "        loss.backward()\n",
    "        optimizer.step()\n",
    "\n",
    "        total_loss += loss.item()\n",
    "\n",
    "    avg_train_loss = total_loss / len(train_loader)\n",
    "    print(f\"Perte entraînement : {avg_train_loss:.4f}\")\n",
    "    train_losses.append(avg_train_loss)\n",
    "\n",
    "    # === VALID ===\n",
    "    model.eval()\n",
    "    val_loss = 0\n",
    "    with torch.no_grad():\n",
    "        for mel, target, input_lens, target_lens in val_loader:\n",
    "            mel, target = mel.to(device), target.to(device)\n",
    "            output = model(mel, max_len=target.size(1))  # [B, L, vocab_size]\n",
    "            output = output.view(-1, output.size(-1))\n",
    "            target = target.view(-1)\n",
    "            loss = criterion(output, target)\n",
    "            val_loss += loss.item()\n",
    "\n",
    "    avg_val_loss = val_loss / len(val_loader)\n",
    "    print(f\"Perte validation : {avg_val_loss:.4f}\")\n",
    "    val_losses.append(avg_val_loss)\n",
    "\n",
    "    # === Évaluer WER simplifié ===\n",
    "    def compute_wer(loader):\n",
    "        model.eval()\n",
    "        predictions, references = [], []\n",
    "        with torch.no_grad():\n",
    "            for mel, target, _, target_lens in loader:\n",
    "                mel = mel.to(device)\n",
    "                output = model(mel, max_len=target.size(1))  # [B, L, vocab_size]\n",
    "                pred_ids = output.argmax(dim=-1).cpu()       # [B, L]\n",
    "\n",
    "                for pred_seq, ref_seq in zip(pred_ids, target):\n",
    "                    pred_str = \" \".join([vocab_inv.get(idx.item(), \"\") for idx in pred_seq if idx != PAD_IDX])\n",
    "                    ref_str = \" \".join([vocab_inv.get(idx.item(), \"\") for idx in ref_seq if idx != PAD_IDX])\n",
    "                    predictions.append(pred_str.strip())\n",
    "                    references.append(ref_str.strip())\n",
    "\n",
    "        return jiwer.wer(references, predictions)\n",
    "\n",
    "    wer_t = compute_wer(train_loader)\n",
    "    wer_v = compute_wer(val_loader)\n",
    "    wer_train.append(wer_t)\n",
    "    wer_val.append(wer_v)\n",
    "    print(f\"WER entraînement : {wer_t:.4f}\")\n",
    "    print(f\"WER validation   : {wer_v:.4f}\")\n",
    "    print(f\"Temps écoulé : {time.time() - start_time:.2f}s\")\n",
    "\n",
    "    # === Early stopping ===\n",
    "    if avg_val_loss < best_val_loss:\n",
    "        best_val_loss = avg_val_loss\n",
    "        patience_counter = 0\n",
    "        torch.save(model.state_dict(), \"best_model_GRUSeq2Seq.pt\")\n",
    "        print(\"✅ Nouveau meilleur modèle sauvegardé\")\n",
    "    else:\n",
    "        patience_counter += 1\n",
    "        if patience_counter >= patience:\n",
    "            print(\"⛔ Arrêt anticipé (early stopping)\")\n",
    "            break\n"
   ]
  },
  {
   "cell_type": "code",
   "execution_count": 77,
   "id": "ab5adc1e",
   "metadata": {},
   "outputs": [
    {
     "data": {
      "image/png": "[encoded data removed]",
      "text/plain": [
       "<Figure size 640x480 with 1 Axes>"
      ]
     },
     "metadata": {},
     "output_type": "display_data"
    },
    {
     "data": {
      "image/png": "[encoded data removed]",
      "text/plain": [
       "<Figure size 640x480 with 1 Axes>"
      ]
     },
     "metadata": {},
     "output_type": "display_data"
    }
   ],
   "source": [
    "import matplotlib.pyplot as plt\n",
    "epochs = list(range(1, len(train_losses) + 1))\n",
    "\n",
    "# 📉 Courbe des pertes (Loss)\n",
    "plt.figure()\n",
    "plt.plot(epochs, train_losses, label='Perte Entraînement')\n",
    "plt.plot(epochs, val_losses, label='Perte Validation')\n",
    "plt.title(\"Évolution de la Perte\")\n",
    "plt.xlabel(\"Époque\")\n",
    "plt.ylabel(\"Loss\")\n",
    "plt.legend()\n",
    "plt.grid(True)\n",
    "plt.tight_layout()\n",
    "plt.show()\n",
    "\n",
    "# 🧠 Courbe du Word Error Rate (WER)\n",
    "plt.figure()\n",
    "plt.plot(epochs, wer_train, label='WER Entraînement')\n",
    "plt.plot(epochs, wer_val, label='WER Validation')\n",
    "plt.title(\"Évolution du WER (Word Error Rate)\")\n",
    "plt.xlabel(\"Époque\")\n",
    "plt.ylabel(\"WER\")\n",
    "plt.legend()\n",
    "plt.grid(True)\n",
    "plt.tight_layout()\n",
    "plt.show()\n"
   ]
  },
  {
   "cell_type": "markdown",
   "id": "94200257",
   "metadata": {},
   "source": [
    "# 9.evaluation"
   ]
  },
  {
   "cell_type": "code",
   "execution_count": 124,
   "id": "d459f5a7",
   "metadata": {},
   "outputs": [
    {
     "name": "stdout",
     "output_type": "stream",
     "text": [
      "✅ Batch trouvé avec données valides :\n",
      "- mel: torch.Size([8, 48, 80])\n",
      "- target: torch.Size([8, 4])\n",
      "- input_lens: tensor([37, 41, 37, 48, 47, 37, 40, 48])\n",
      "- target_lens: tensor([4, 3, 3, 3, 4, 3, 3, 3])\n",
      "\n",
      "Exemple brut :\n",
      "→ mel[0].shape : torch.Size([48, 80])\n",
      "→ target[0] : tensor([  6, 238, 309, 314])\n",
      "→ input_lens[0] : tensor(37)\n",
      "→ target_lens[0] : tensor(4)\n"
     ]
    }
   ],
   "source": [
    "# Vérification du contenu du test_loader\n",
    "for batch in test_loader:\n",
    "    if batch is None or len(batch) == 0:\n",
    "        print(\"❌ Batch vide ou invalide.\")\n",
    "        continue\n",
    "\n",
    "    if len(batch) != 4:\n",
    "        print(f\"❌ Format inattendu du batch : attendu 4 éléments (mel, target, input_lens, target_lens), obtenu {len(batch)}\")\n",
    "        continue\n",
    "\n",
    "    mel, target, input_lens, target_lens = batch\n",
    "\n",
    "    print(\"✅ Batch trouvé avec données valides :\")\n",
    "    print(f\"- mel: {mel.shape}\")            # [B, T, F]\n",
    "    print(f\"- target: {target.shape}\")      # [B, L]\n",
    "    print(f\"- input_lens: {input_lens}\")    # liste des longueurs réelles d’entrée\n",
    "    print(f\"- target_lens: {target_lens}\")  # liste des longueurs cibles\n",
    "\n",
    "    # Afficher un exemple brut\n",
    "    print(\"\\nExemple brut :\")\n",
    "    print(\"→ mel[0].shape :\", mel[0].shape)\n",
    "    print(\"→ target[0] :\", target[0])\n",
    "    print(\"→ input_lens[0] :\", input_lens[0])\n",
    "    print(\"→ target_lens[0] :\", target_lens[0])\n",
    "    break  # On ne regarde que le premier batch\n"
   ]
  },
  {
   "cell_type": "code",
   "execution_count": 126,
   "id": "d9b27275",
   "metadata": {},
   "outputs": [],
   "source": [
    "def evaluate_seq2seq(model, loader, vocab_inv, pad_idx=0):\n",
    "    model.eval()\n",
    "    predictions, references = [], []\n",
    "\n",
    "    with torch.no_grad():\n",
    "        for mel, target, input_lens, target_lens in loader:\n",
    "            if mel is None or target is None:\n",
    "                continue  # Sécurité\n",
    "\n",
    "            mel = mel.to(model.device if hasattr(model, \"device\") else \"cuda\" if torch.cuda.is_available() else \"cpu\")\n",
    "            target = target.to(mel.device)\n",
    "\n",
    "            output = model(mel, max_len=target.shape[1])  # [B, L, Vocab]\n",
    "            pred_tokens = output.argmax(dim=-1).cpu()     # [B, L]\n",
    "\n",
    "            for i in range(len(mel)):\n",
    "                # Prédiction\n",
    "                pred_seq = pred_tokens[i].tolist()\n",
    "                pred_seq = [p for p in pred_seq if p != pad_idx]\n",
    "                decoded_pred = [vocab_inv.get(p, \"\") for p in pred_seq]\n",
    "\n",
    "                # Référence\n",
    "                ref_seq = target[i][:target_lens[i]].tolist()\n",
    "                decoded_ref = [vocab_inv.get(t, \"\") for t in ref_seq]\n",
    "\n",
    "                predictions.append(\" \".join(decoded_pred))\n",
    "                references.append(\" \".join(decoded_ref))\n",
    "\n",
    "    # Sécurité : éviter la division par zéro\n",
    "    if len(references) == 0:\n",
    "        print(\"[⚠️] Aucune référence trouvée. Vérifie le contenu du test_loader.\")\n",
    "        return {\"WER\": None, \"CER\": None, \"SER\": None}\n",
    "\n",
    "    # Afficher un exemple pour vérification\n",
    "    print(\"\\n✅ Exemple de prédiction :\")\n",
    "    print(\"PRED :\", predictions[0])\n",
    "    print(\"REF  :\", references[0])\n",
    "\n",
    "    return {\n",
    "        \"WER\": wer(references, predictions),\n",
    "        \"CER\": cer(references, predictions),\n",
    "        \"SER\": sum([p != r for p, r in zip(predictions, references)]) / len(references)\n",
    "    }\n"
   ]
  },
  {
   "cell_type": "code",
   "execution_count": 127,
   "id": "81e92c5e",
   "metadata": {},
   "outputs": [
    {
     "name": "stdout",
     "output_type": "stream",
     "text": [
      "\n",
      "✅ Exemple de prédiction :\n",
      "PRED : N|haut tí |haut ∅|∅\n",
      "REF  : N|bas tí |haut ∅|∅\n",
      "WER : 0.6302\n",
      "CER : 0.4279\n",
      "SER : 0.9583\n"
     ]
    }
   ],
   "source": [
    "results = evaluate_seq2seq(model, test_loader, vocab_inv, pad_idx=PAD_IDX)\n",
    "print(f\"WER : {results['WER']:.4f}\")\n",
    "print(f\"CER : {results['CER']:.4f}\")\n",
    "print(f\"SER : {results['SER']:.4f}\")\n"
   ]
  },
  {
   "cell_type": "markdown",
   "id": "b88e360a",
   "metadata": {},
   "source": [
    "# 10. Visualisation"
   ]
  },
  {
   "cell_type": "code",
   "execution_count": 131,
   "id": "8a53ff24",
   "metadata": {},
   "outputs": [
    {
     "name": "stdout",
     "output_type": "stream",
     "text": [
      "Index(['WordId', 'Yemba', 'Speaker', 'GroupeId', 'Statement', 'Syllabe 1',\n",
      "       'Tone 1', 'Syllabe 2', 'Tone 2', 'Syllabe 3', 'Tone 3', 'path',\n",
      "       'syllable_transcript', 'encoded', 'exists'],\n",
      "      dtype='object')\n"
     ]
    }
   ],
   "source": [
    "print(test.columns)\n"
   ]
  },
  {
   "cell_type": "code",
   "execution_count": 132,
   "id": "f6b14dc3",
   "metadata": {},
   "outputs": [],
   "source": [
    "# Adaptation du YembaSataset et collate_fn pour qu'il retourne aussi les chemins des fichiers\n",
    "\n",
    "class YembaDataset(Dataset):\n",
    "    def __init__(self, dataframe):\n",
    "        self.data = dataframe\n",
    "\n",
    "    def __len__(self):\n",
    "        return len(self.data)\n",
    "\n",
    "    def __getitem__(self, idx):\n",
    "        row = self.data.iloc[idx]\n",
    "        mel = extract_melspectrogram(row[\"path\"])\n",
    "        label = torch.tensor(row[\"encoded\"], dtype=torch.long)\n",
    "        return mel, label, row[\"path\"]\n",
    "\n",
    "\n",
    "\n",
    "def collate_fn(batch):\n",
    "    mels, labels, paths = zip(*batch)\n",
    "    input_lengths = [mel.shape[0] for mel in mels]\n",
    "    label_lengths = [len(label) for label in labels]\n",
    "\n",
    "    mels_padded = nn.utils.rnn.pad_sequence(mels, batch_first=True)  # [B, T, F]\n",
    "    labels_cat = torch.cat(labels)\n",
    "\n",
    "    return mels_padded, labels_cat, torch.tensor(input_lengths), torch.tensor(label_lengths), list(paths)\n",
    "\n",
    "test_loader = DataLoader(\n",
    "    YembaDataset(test), \n",
    "    batch_size=8, \n",
    "    collate_fn=collate_fn\n",
    ")\n"
   ]
  },
  {
   "cell_type": "code",
   "execution_count": 139,
   "id": "bf655c4a",
   "metadata": {},
   "outputs": [],
   "source": [
    "def clean_prediction(pred_list):\n",
    "    cleaned = []\n",
    "    for token in pred_list:\n",
    "        if \"|\" in token:\n",
    "            base = token.split(\"|\")[0]\n",
    "        else:\n",
    "            base = token\n",
    "        if base.strip() == \"\" or base == \"∅\":\n",
    "            continue\n",
    "        cleaned.append(base)\n",
    "    return \"\".join(cleaned)\n",
    "\n",
    "results = []"
   ]
  },
  {
   "cell_type": "code",
   "execution_count": 140,
   "id": "b336eccc",
   "metadata": {},
   "outputs": [],
   "source": [
    "model.eval()\n",
    "with torch.no_grad():\n",
    "    for mel, target, input_lens, target_lens, paths in test_loader:\n",
    "        mel = mel.to(device)\n",
    "        output = model(mel).log_softmax(2)\n",
    "        pred = output.argmax(2).cpu()\n",
    "\n",
    "        start = 0\n",
    "        for i in range(len(mel)):\n",
    "            pred_seq = pred[i][:input_lens[i]].tolist()\n",
    "            decoded_pred = [vocab_inv.get(p, \"\") for p in pred_seq if p != 0]\n",
    "\n",
    "            t_len = target_lens[i]\n",
    "            ref_seq = target[start:start + t_len]\n",
    "            decoded_ref = [vocab_inv.get(t.item(), \"\") for t in ref_seq]\n",
    "\n",
    "            results.append({\n",
    "                \"fichier_audio\": os.path.basename(paths[i]),\n",
    "                \"prediction\": clean_prediction(decoded_pred),\n",
    "                \"reference\": clean_prediction(decoded_ref)\n",
    "            })\n",
    "\n",
    "            start += t_len\n",
    "\n",
    "df_resultats = pd.DataFrame(results)\n",
    "pd.set_option(\"display.max_colwidth\", None)\n"
   ]
  },
  {
   "cell_type": "code",
   "execution_count": 146,
   "id": "9eef8f83",
   "metadata": {},
   "outputs": [
    {
     "name": "stdout",
     "output_type": "stream",
     "text": [
      "336\n"
     ]
    },
    {
     "data": {
      "text/html": [
       "<div>\n",
       "<style scoped>\n",
       "    .dataframe tbody tr th:only-of-type {\n",
       "        vertical-align: middle;\n",
       "    }\n",
       "\n",
       "    .dataframe tbody tr th {\n",
       "        vertical-align: top;\n",
       "    }\n",
       "\n",
       "    .dataframe thead th {\n",
       "        text-align: right;\n",
       "    }\n",
       "</style>\n",
       "<table border=\"1\" class=\"dataframe\">\n",
       "  <thead>\n",
       "    <tr style=\"text-align: right;\">\n",
       "      <th></th>\n",
       "      <th>fichier_audio</th>\n",
       "      <th>prediction</th>\n",
       "      <th>reference</th>\n",
       "    </tr>\n",
       "  </thead>\n",
       "  <tbody>\n",
       "    <tr>\n",
       "      <th>0</th>\n",
       "      <td>spkr_5_group_79_statement_3.wav</td>\n",
       "      <td>Ntí</td>\n",
       "      <td>Ntí</td>\n",
       "    </tr>\n",
       "    <tr>\n",
       "      <th>1</th>\n",
       "      <td>spkr_11_group_49_statement_1.wav</td>\n",
       "      <td>ntshɛ̄</td>\n",
       "      <td>ntshɛ</td>\n",
       "    </tr>\n",
       "    <tr>\n",
       "      <th>2</th>\n",
       "      <td>spkr_3_group_111_statement_1.wav</td>\n",
       "      <td>akūp</td>\n",
       "      <td>akem</td>\n",
       "    </tr>\n",
       "    <tr>\n",
       "      <th>3</th>\n",
       "      <td>spkr_8_group_36_statement_2.wav</td>\n",
       "      <td>ntɔ́ŋ</td>\n",
       "      <td>ntɔ̄ŋ</td>\n",
       "    </tr>\n",
       "    <tr>\n",
       "      <th>4</th>\n",
       "      <td>spkr_1_group_76_statement_1.wav</td>\n",
       "      <td>Ntí</td>\n",
       "      <td>Nchʉ̄</td>\n",
       "    </tr>\n",
       "    <tr>\n",
       "      <th>5</th>\n",
       "      <td>spkr_1_group_20_statement_2.wav</td>\n",
       "      <td>mbúŋ</td>\n",
       "      <td>mbɛ̄</td>\n",
       "    </tr>\n",
       "    <tr>\n",
       "      <th>6</th>\n",
       "      <td>spkr_4_group_15_statement_2.wav</td>\n",
       "      <td>mbēŋ</td>\n",
       "      <td>mbǝ̄</td>\n",
       "    </tr>\n",
       "    <tr>\n",
       "      <th>7</th>\n",
       "      <td>spkr_8_group_121_statement_2.wav</td>\n",
       "      <td>Lekwɛt</td>\n",
       "      <td>Lekwɛ̄</td>\n",
       "    </tr>\n",
       "    <tr>\n",
       "      <th>8</th>\n",
       "      <td>spkr_9_group_48_statement_2.wav</td>\n",
       "      <td>Ntí</td>\n",
       "      <td>ntshí</td>\n",
       "    </tr>\n",
       "    <tr>\n",
       "      <th>9</th>\n",
       "      <td>spkr_7_group_70_statement_2.wav</td>\n",
       "      <td>Lekūp</td>\n",
       "      <td>Lewhʉ</td>\n",
       "    </tr>\n",
       "  </tbody>\n",
       "</table>\n",
       "</div>"
      ],
      "text/plain": [
       "                      fichier_audio prediction reference\n",
       "0   spkr_5_group_79_statement_3.wav       Ntí      Ntí\n",
       "1  spkr_11_group_49_statement_1.wav     ntshɛ̄     ntshɛ\n",
       "2  spkr_3_group_111_statement_1.wav      akūp      akem\n",
       "3   spkr_8_group_36_statement_2.wav      ntɔ́ŋ     ntɔ̄ŋ\n",
       "4   spkr_1_group_76_statement_1.wav       Ntí     Nchʉ̄\n",
       "5   spkr_1_group_20_statement_2.wav      mbúŋ      mbɛ̄\n",
       "6   spkr_4_group_15_statement_2.wav      mbēŋ      mbǝ̄\n",
       "7  spkr_8_group_121_statement_2.wav     Lekwɛt    Lekwɛ̄\n",
       "8   spkr_9_group_48_statement_2.wav       Ntí    ntshí\n",
       "9   spkr_7_group_70_statement_2.wav     Lekūp     Lewhʉ"
      ]
     },
     "execution_count": 146,
     "metadata": {},
     "output_type": "execute_result"
    }
   ],
   "source": [
    "print(len(df_resultats))\n",
    "df_resultats.head(10)"
   ]
  },
  {
   "cell_type": "code",
   "execution_count": 142,
   "id": "106fd1da",
   "metadata": {},
   "outputs": [],
   "source": [
    "df_correct = df_resultats[df_resultats[\"prediction\"] == df_resultats[\"reference\"]]"
   ]
  },
  {
   "cell_type": "code",
   "execution_count": 145,
   "id": "12acdcf8",
   "metadata": {},
   "outputs": [
    {
     "name": "stdout",
     "output_type": "stream",
     "text": [
      "29\n"
     ]
    },
    {
     "data": {
      "text/html": [
       "<div>\n",
       "<style scoped>\n",
       "    .dataframe tbody tr th:only-of-type {\n",
       "        vertical-align: middle;\n",
       "    }\n",
       "\n",
       "    .dataframe tbody tr th {\n",
       "        vertical-align: top;\n",
       "    }\n",
       "\n",
       "    .dataframe thead th {\n",
       "        text-align: right;\n",
       "    }\n",
       "</style>\n",
       "<table border=\"1\" class=\"dataframe\">\n",
       "  <thead>\n",
       "    <tr style=\"text-align: right;\">\n",
       "      <th></th>\n",
       "      <th>fichier_audio</th>\n",
       "      <th>prediction</th>\n",
       "      <th>reference</th>\n",
       "    </tr>\n",
       "  </thead>\n",
       "  <tbody>\n",
       "    <tr>\n",
       "      <th>0</th>\n",
       "      <td>spkr_5_group_79_statement_3.wav</td>\n",
       "      <td>Ntí</td>\n",
       "      <td>Ntí</td>\n",
       "    </tr>\n",
       "    <tr>\n",
       "      <th>27</th>\n",
       "      <td>spkr_8_group_1_statement_3.wav</td>\n",
       "      <td>apá</td>\n",
       "      <td>apá</td>\n",
       "    </tr>\n",
       "    <tr>\n",
       "      <th>30</th>\n",
       "      <td>spkr_3_group_61_statement_2.wav</td>\n",
       "      <td>Sésā</td>\n",
       "      <td>Sésā</td>\n",
       "    </tr>\n",
       "    <tr>\n",
       "      <th>46</th>\n",
       "      <td>spkr_6_group_96_statement_2.wav</td>\n",
       "      <td>Lefɛ̄t</td>\n",
       "      <td>Lefɛ̄t</td>\n",
       "    </tr>\n",
       "    <tr>\n",
       "      <th>53</th>\n",
       "      <td>spkr_1_group_132_statement_1.wav</td>\n",
       "      <td>alúŋ</td>\n",
       "      <td>alúŋ</td>\n",
       "    </tr>\n",
       "    <tr>\n",
       "      <th>62</th>\n",
       "      <td>spkr_8_group_38_statement_2.wav</td>\n",
       "      <td>ntǝ̄</td>\n",
       "      <td>ntǝ̄</td>\n",
       "    </tr>\n",
       "    <tr>\n",
       "      <th>75</th>\n",
       "      <td>spkr_11_group_61_statement_2.wav</td>\n",
       "      <td>Sésā</td>\n",
       "      <td>Sésā</td>\n",
       "    </tr>\n",
       "    <tr>\n",
       "      <th>77</th>\n",
       "      <td>spkr_9_group_16_statement_4.wav</td>\n",
       "      <td>mbí</td>\n",
       "      <td>mbí</td>\n",
       "    </tr>\n",
       "    <tr>\n",
       "      <th>102</th>\n",
       "      <td>spkr_6_group_15_statement_2.wav</td>\n",
       "      <td>mbǝ̄</td>\n",
       "      <td>mbǝ̄</td>\n",
       "    </tr>\n",
       "    <tr>\n",
       "      <th>111</th>\n",
       "      <td>spkr_4_group_38_statement_1.wav</td>\n",
       "      <td>ntǝ̄</td>\n",
       "      <td>ntǝ̄</td>\n",
       "    </tr>\n",
       "    <tr>\n",
       "      <th>112</th>\n",
       "      <td>spkr_1_group_52_statement_1.wav</td>\n",
       "      <td>ntsap</td>\n",
       "      <td>ntsap</td>\n",
       "    </tr>\n",
       "    <tr>\n",
       "      <th>160</th>\n",
       "      <td>spkr_7_group_69_statement_1.wav</td>\n",
       "      <td>Letɔ̄ŋ</td>\n",
       "      <td>Letɔ̄ŋ</td>\n",
       "    </tr>\n",
       "    <tr>\n",
       "      <th>167</th>\n",
       "      <td>spkr_2_group_52_statement_2.wav</td>\n",
       "      <td>ntsáp</td>\n",
       "      <td>ntsáp</td>\n",
       "    </tr>\n",
       "    <tr>\n",
       "      <th>171</th>\n",
       "      <td>spkr_6_group_85_statement_2.wav</td>\n",
       "      <td>mbɔ</td>\n",
       "      <td>mbɔ</td>\n",
       "    </tr>\n",
       "    <tr>\n",
       "      <th>189</th>\n",
       "      <td>spkr_7_group_55_statement_1.wav</td>\n",
       "      <td>ntēm</td>\n",
       "      <td>ntēm</td>\n",
       "    </tr>\n",
       "    <tr>\n",
       "      <th>191</th>\n",
       "      <td>spkr_10_group_65_statement_3.wav</td>\n",
       "      <td>Lepē</td>\n",
       "      <td>Lepē</td>\n",
       "    </tr>\n",
       "    <tr>\n",
       "      <th>212</th>\n",
       "      <td>spkr_7_group_98_statement_2.wav</td>\n",
       "      <td>Lefɔ̄</td>\n",
       "      <td>Lefɔ̄</td>\n",
       "    </tr>\n",
       "    <tr>\n",
       "      <th>215</th>\n",
       "      <td>spkr_7_group_116_statement_2.wav</td>\n",
       "      <td>Lekōk</td>\n",
       "      <td>Lekōk</td>\n",
       "    </tr>\n",
       "    <tr>\n",
       "      <th>217</th>\n",
       "      <td>spkr_3_group_148_statement_2.wav</td>\n",
       "      <td>nzɔŋ</td>\n",
       "      <td>nzɔŋ</td>\n",
       "    </tr>\n",
       "    <tr>\n",
       "      <th>243</th>\n",
       "      <td>spkr_5_group_85_statement_2.wav</td>\n",
       "      <td>mbɔ</td>\n",
       "      <td>mbɔ</td>\n",
       "    </tr>\n",
       "    <tr>\n",
       "      <th>246</th>\n",
       "      <td>spkr_8_group_16_statement_4.wav</td>\n",
       "      <td>mbí</td>\n",
       "      <td>mbí</td>\n",
       "    </tr>\n",
       "    <tr>\n",
       "      <th>259</th>\n",
       "      <td>spkr_6_group_92_statement_2.wav</td>\n",
       "      <td>Lefāŋ</td>\n",
       "      <td>Lefāŋ</td>\n",
       "    </tr>\n",
       "    <tr>\n",
       "      <th>266</th>\n",
       "      <td>spkr_7_group_26_statement_3.wav</td>\n",
       "      <td>ndɔ́</td>\n",
       "      <td>ndɔ́</td>\n",
       "    </tr>\n",
       "    <tr>\n",
       "      <th>272</th>\n",
       "      <td>spkr_5_group_139_statement_1.wav</td>\n",
       "      <td>atwɛ́t</td>\n",
       "      <td>atwɛ́t</td>\n",
       "    </tr>\n",
       "    <tr>\n",
       "      <th>276</th>\n",
       "      <td>spkr_7_group_85_statement_3.wav</td>\n",
       "      <td>mbɔ̄</td>\n",
       "      <td>mbɔ̄</td>\n",
       "    </tr>\n",
       "    <tr>\n",
       "      <th>277</th>\n",
       "      <td>spkr_11_group_138_statement_2.wav</td>\n",
       "      <td>atā</td>\n",
       "      <td>atā</td>\n",
       "    </tr>\n",
       "    <tr>\n",
       "      <th>286</th>\n",
       "      <td>spkr_7_group_53_statement_1.wav</td>\n",
       "      <td>ntsem</td>\n",
       "      <td>ntsem</td>\n",
       "    </tr>\n",
       "    <tr>\n",
       "      <th>294</th>\n",
       "      <td>spkr_7_group_89_statement_2.wav</td>\n",
       "      <td>ndō</td>\n",
       "      <td>ndō</td>\n",
       "    </tr>\n",
       "    <tr>\n",
       "      <th>311</th>\n",
       "      <td>spkr_7_group_85_statement_1.wav</td>\n",
       "      <td>mbɔ</td>\n",
       "      <td>mbɔ</td>\n",
       "    </tr>\n",
       "  </tbody>\n",
       "</table>\n",
       "</div>"
      ],
      "text/plain": [
       "                         fichier_audio prediction reference\n",
       "0      spkr_5_group_79_statement_3.wav       Ntí      Ntí\n",
       "27      spkr_8_group_1_statement_3.wav       apá      apá\n",
       "30     spkr_3_group_61_statement_2.wav     Sésā    Sésā\n",
       "46     spkr_6_group_96_statement_2.wav     Lefɛ̄t    Lefɛ̄t\n",
       "53    spkr_1_group_132_statement_1.wav      alúŋ     alúŋ\n",
       "62     spkr_8_group_38_statement_2.wav       ntǝ̄      ntǝ̄\n",
       "75    spkr_11_group_61_statement_2.wav     Sésā    Sésā\n",
       "77     spkr_9_group_16_statement_4.wav       mbí      mbí\n",
       "102    spkr_6_group_15_statement_2.wav       mbǝ̄      mbǝ̄\n",
       "111    spkr_4_group_38_statement_1.wav       ntǝ̄      ntǝ̄\n",
       "112    spkr_1_group_52_statement_1.wav      ntsap     ntsap\n",
       "160    spkr_7_group_69_statement_1.wav     Letɔ̄ŋ    Letɔ̄ŋ\n",
       "167    spkr_2_group_52_statement_2.wav     ntsáp    ntsáp\n",
       "171    spkr_6_group_85_statement_2.wav        mbɔ       mbɔ\n",
       "189    spkr_7_group_55_statement_1.wav      ntēm     ntēm\n",
       "191   spkr_10_group_65_statement_3.wav      Lepē     Lepē\n",
       "212    spkr_7_group_98_statement_2.wav      Lefɔ̄     Lefɔ̄\n",
       "215   spkr_7_group_116_statement_2.wav     Lekōk    Lekōk\n",
       "217   spkr_3_group_148_statement_2.wav       nzɔŋ      nzɔŋ\n",
       "243    spkr_5_group_85_statement_2.wav        mbɔ       mbɔ\n",
       "246    spkr_8_group_16_statement_4.wav       mbí      mbí\n",
       "259    spkr_6_group_92_statement_2.wav     Lefāŋ    Lefāŋ\n",
       "266    spkr_7_group_26_statement_3.wav       ndɔ́      ndɔ́\n",
       "272   spkr_5_group_139_statement_1.wav     atwɛ́t    atwɛ́t\n",
       "276    spkr_7_group_85_statement_3.wav       mbɔ̄      mbɔ̄\n",
       "277  spkr_11_group_138_statement_2.wav       atā      atā\n",
       "286    spkr_7_group_53_statement_1.wav      ntsem     ntsem\n",
       "294    spkr_7_group_89_statement_2.wav       ndō      ndō\n",
       "311    spkr_7_group_85_statement_1.wav        mbɔ       mbɔ"
      ]
     },
     "execution_count": 145,
     "metadata": {},
     "output_type": "execute_result"
    }
   ],
   "source": [
    "print(len(df_correct))\n",
    "df_correct\n"
   ]
  },
  {
   "cell_type": "code",
   "execution_count": 147,
   "id": "c7d0a4d3",
   "metadata": {},
   "outputs": [
    {
     "name": "stdout",
     "output_type": "stream",
     "text": [
      "Exact Match Accuracy : 8.63%\n"
     ]
    }
   ],
   "source": [
    "accuracy = len(df_correct) / len(df_resultats)\n",
    "print(f\"Exact Match Accuracy : {accuracy:.2%}\")\n"
   ]
  },
  {
   "cell_type": "code",
   "execution_count": null,
   "id": "bdde5c5a",
   "metadata": {},
   "outputs": [],
   "source": []
  }
 ],
 "metadata": {
  "kernelspec": {
   "display_name": "Python 3 (ipykernel)",
   "language": "python",
   "name": "python3"
  },
  "language_info": {
   "codemirror_mode": {
    "name": "ipython",
    "version": 3
   },
   "file_extension": ".py",
   "mimetype": "text/x-python",
   "name": "python",
   "nbconvert_exporter": "python",
   "pygments_lexer": "ipython3",
   "version": "3.11.4"
  }
 },
 "nbformat": 4,
 "nbformat_minor": 5
}
