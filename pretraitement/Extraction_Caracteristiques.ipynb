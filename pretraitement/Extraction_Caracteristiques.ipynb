{
 "cells": [
  {
   "cell_type": "code",
   "execution_count": 1,
   "id": "53f08722",
   "metadata": {},
   "outputs": [],
   "source": [
    "import torch\n",
    "import torchaudio\n",
    "import torchaudio.transforms as T\n",
    "import matplotlib.pyplot as plt\n",
    "from IPython.display import Audio\n",
    "from pathlib import Path\n",
    "import soundfile as sf\n",
    "import numpy as np"
   ]
  },
  {
   "cell_type": "code",
   "execution_count": 2,
   "id": "77f2591a",
   "metadata": {},
   "outputs": [],
   "source": [
    "%matplotlib inline"
   ]
  },
  {
   "cell_type": "code",
   "execution_count": 3,
   "id": "a3e6c1b7",
   "metadata": {},
   "outputs": [
    {
     "name": "stdout",
     "output_type": "stream",
     "text": [
      "3.7.1\n"
     ]
    }
   ],
   "source": [
    "import matplotlib\n",
    "print(matplotlib.__version__)\n"
   ]
  },
  {
   "cell_type": "code",
   "execution_count": 4,
   "id": "d488b4e8",
   "metadata": {},
   "outputs": [
    {
     "name": "stderr",
     "output_type": "stream",
     "text": [
      "C:\\Users\\Christian\\AppData\\Local\\Temp\\ipykernel_7960\\1514198219.py:1: UserWarning: torchaudio._backend.set_audio_backend has been deprecated. With dispatcher enabled, this function is no-op. You can remove the function call.\n",
      "  torchaudio.set_audio_backend(\"soundfile\")\n"
     ]
    }
   ],
   "source": [
    "torchaudio.set_audio_backend(\"soundfile\")\n"
   ]
  },
  {
   "cell_type": "code",
   "execution_count": 5,
   "id": "0f71084c",
   "metadata": {},
   "outputs": [
    {
     "name": "stdout",
     "output_type": "stream",
     "text": [
      "📏 Forme : (29076, 2)\n",
      "🎧 Fréquence d’échantillonnage : 44100 Hz\n"
     ]
    }
   ],
   "source": [
    "audio_path = r\"C:\\Users\\Christian\\Desktop\\YembaTones\\YembaTones An Annotated Dataset for Tonal and Syllabic Analysis of the Yemba Language\\Yemba_Dataset\\audios\\speaker_1\\group_1\\spkr_1_group_1_statement_1.wav\"\n",
    "\n",
    "# Charger le fichier audio (retourne un tableau numpy)\n",
    "waveform, sample_rate = sf.read(audio_path)\n",
    "\n",
    "print(f\"📏 Forme : {waveform.shape}\")\n",
    "print(f\"🎧 Fréquence d’échantillonnage : {sample_rate} Hz\")\n"
   ]
  },
  {
   "cell_type": "code",
   "execution_count": 6,
   "id": "1dfd9b98",
   "metadata": {},
   "outputs": [],
   "source": [
    "if isinstance(waveform, np.ndarray):\n",
    "    waveform = torch.tensor(waveform.T, dtype=torch.float32)  # [channel, time]\n"
   ]
  },
  {
   "cell_type": "code",
   "execution_count": 7,
   "id": "1fdf44a3",
   "metadata": {},
   "outputs": [
    {
     "name": "stdout",
     "output_type": "stream",
     "text": [
      "✅ Resampling effectué.\n"
     ]
    }
   ],
   "source": [
    "target_sr = 16000  # exemple\n",
    "if sample_rate != target_sr:\n",
    "    resampler = T.Resample(orig_freq=sample_rate, new_freq=target_sr)\n",
    "    waveform = resampler(waveform)\n",
    "    sample_rate = target_sr\n",
    "    print(\"✅ Resampling effectué.\")\n"
   ]
  },
  {
   "cell_type": "code",
   "execution_count": 8,
   "id": "4205858d",
   "metadata": {},
   "outputs": [
    {
     "name": "stdout",
     "output_type": "stream",
     "text": [
      "Log-MelSpectrogram shape : torch.Size([2, 80, 66])\n"
     ]
    }
   ],
   "source": [
    "# 📊 3. Extraction du Log-MelSpectrogram\n",
    "mel_transform = T.MelSpectrogram(\n",
    "    sample_rate=sample_rate,\n",
    "    n_fft=400,\n",
    "    win_length=400,\n",
    "    hop_length=160,\n",
    "    n_mels=80\n",
    ")\n",
    "mel_spec = mel_transform(waveform)\n",
    "log_mel_spec = torch.log1p(mel_spec)  # log(1 + x)\n",
    "print(f\"Log-MelSpectrogram shape : {log_mel_spec.shape}\")"
   ]
  },
  {
   "cell_type": "code",
   "execution_count": 9,
   "id": "164e66e5",
   "metadata": {},
   "outputs": [
    {
     "name": "stdout",
     "output_type": "stream",
     "text": [
      "torch.Size([2, 80, 66])\n"
     ]
    }
   ],
   "source": [
    "print(log_mel_spec.shape)"
   ]
  },
  {
   "cell_type": "code",
   "execution_count": 10,
   "id": "3dbb4c36",
   "metadata": {},
   "outputs": [
    {
     "name": "stdout",
     "output_type": "stream",
     "text": [
      "Contient NaN : False\n",
      "Max : 3.5042062 Min : 3.1626095e-07\n"
     ]
    }
   ],
   "source": [
    "# 1. On extrait une copie du canal 0\n",
    "spec = log_mel_spec[0]  # forme : [mel, time]\n",
    "\n",
    "# 2. Détache du graphe, force sur CPU, transforme en numpy array\n",
    "spec_np = spec.detach().cpu().numpy()\n",
    "\n",
    "# 3. Optionnel : vérifier l’absence de valeurs aberrantes\n",
    "print(\"Contient NaN :\", np.isnan(spec_np).any())\n",
    "print(\"Max :\", np.max(spec_np), \"Min :\", np.min(spec_np))\n"
   ]
  },
  {
   "cell_type": "code",
   "execution_count": 11,
   "id": "61847097",
   "metadata": {},
   "outputs": [],
   "source": [
    "import matplotlib\n",
    "matplotlib.use('Agg')  # Pour désactiver les backends interactifs\n"
   ]
  },
  {
   "cell_type": "code",
   "execution_count": null,
   "id": "b9965c0c",
   "metadata": {},
   "outputs": [],
   "source": [
    "import matplotlib.pyplot as plt\n",
    "import numpy as np\n",
    "\n",
    "spec_np = log_mel_spec[0].detach().cpu().numpy()\n",
    "\n",
    "plt.figure(figsize=(10, 4))\n",
    "plt.imshow(spec_np, aspect='auto', origin='lower', interpolation='nearest')\n",
    "plt.title(\"Log-MelSpectrogram\")\n",
    "plt.xlabel(\"Frames\")\n",
    "plt.ylabel(\"Bandes Mel\")\n",
    "plt.colorbar(format='%+2.0f dB')\n",
    "plt.tight_layout()\n",
    "plt.savefig(\"spectrogram.png\")\n",
    "plt.close()\n",
    "\n",
    "print(\"✅ Image sauvegardée dans spectrogram.png\")"
   ]
  },
  {
   "cell_type": "code",
   "execution_count": null,
   "id": "44488508",
   "metadata": {},
   "outputs": [],
   "source": [
    "# 4. Affichage\n",
    "plt.figure(figsize=(10, 4))\n",
    "plt.imshow(spec_np, aspect='auto', origin='lower', interpolation='nearest')\n",
    "plt.title(\"Log-MelSpectrogram (Canal 0)\")\n",
    "plt.xlabel(\"Frames\")\n",
    "plt.ylabel(\"Bandes Mel\")\n",
    "plt.colorbar(format='%+2.0f dB')\n",
    "plt.tight_layout()\n",
    "plt.show()\n"
   ]
  },
  {
   "cell_type": "code",
   "execution_count": null,
   "id": "30f0177b",
   "metadata": {},
   "outputs": [],
   "source": [
    "import matplotlib.pyplot as plt\n",
    "\n",
    "# Affiche canal 0 (ex : gauche)\n",
    "plt.figure(figsize=(10, 4))\n",
    "plt.imshow(log_mel_spec[0].detach().cpu().numpy(), aspect='auto', origin='lower')\n",
    "plt.title(\"Log-MelSpectrogram (Canal 0)\")\n",
    "plt.xlabel(\"Frames (temps)\")\n",
    "plt.ylabel(\"Bandes Mel\")\n",
    "plt.colorbar(format='%+2.0f dB')\n",
    "plt.tight_layout()\n",
    "plt.show()\n",
    "\n",
    "# Optionnel : afficher canal 1 aussi\n",
    "plt.figure(figsize=(10, 4))\n",
    "plt.imshow(log_mel_spec[1].detach().cpu().numpy(), aspect='auto', origin='lower')\n",
    "plt.title(\"Log-MelSpectrogram (Canal 1)\")\n",
    "plt.xlabel(\"Frames (temps)\")\n",
    "plt.ylabel(\"Bandes Mel\")\n",
    "plt.colorbar(format='%+2.0f dB')\n",
    "plt.tight_layout()\n",
    "plt.show()\n"
   ]
  },
  {
   "cell_type": "code",
   "execution_count": null,
   "id": "1fe192a1",
   "metadata": {},
   "outputs": [],
   "source": [
    "# 🖼️ 4. Visualisation du Log-MelSpectrogram\n",
    "plt.figure(figsize=(10, 4))\n",
    "plt.imshow(log_mel_spec[0].detach().numpy(), aspect='auto', origin='lower')\n",
    "plt.title(\"Log-MelSpectrogram\")\n",
    "plt.xlabel(\"Frames (temps)\")\n",
    "plt.ylabel(\"Bandes Mel\")\n",
    "plt.colorbar(format='%+2.0f dB')\n",
    "plt.tight_layout()\n",
    "plt.show()\n",
    "\n",
    "# ✅ Ce spectrogramme peut maintenant être envoyé à un modèle RNN (BiLSTM + CTC) comme entrée.\n"
   ]
  },
  {
   "cell_type": "code",
   "execution_count": null,
   "id": "42ae44cb",
   "metadata": {},
   "outputs": [],
   "source": []
  }
 ],
 "metadata": {
  "kernelspec": {
   "display_name": "Python 3 (ipykernel)",
   "language": "python",
   "name": "python3"
  },
  "language_info": {
   "codemirror_mode": {
    "name": "ipython",
    "version": 3
   },
   "file_extension": ".py",
   "mimetype": "text/x-python",
   "name": "python",
   "nbconvert_exporter": "python",
   "pygments_lexer": "ipython3",
   "version": "3.11.4"
  }
 },
 "nbformat": 4,
 "nbformat_minor": 5
}
